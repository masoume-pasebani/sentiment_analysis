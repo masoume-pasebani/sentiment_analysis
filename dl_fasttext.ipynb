{
  "cells": [
    {
      "cell_type": "markdown",
      "metadata": {
        "id": "view-in-github",
        "colab_type": "text"
      },
      "source": [
        "<a href=\"https://colab.research.google.com/github/masoume-pasebani/sentiment_analysis/blob/main/dl_fasttext.ipynb\" target=\"_parent\"><img src=\"https://colab.research.google.com/assets/colab-badge.svg\" alt=\"Open In Colab\"/></a>"
      ]
    },
    {
      "cell_type": "markdown",
      "metadata": {
        "id": "5PK_TAwHO9lZ"
      },
      "source": [
        "Please follow our [blog](https://medium.com/google-colab) to see more information about new features, tips and tricks, and featured notebooks such as [Analyzing a Bank Failure with Colab](https://medium.com/google-colab/noteworthy-notebooks-3-analyzing-a-bank-failure-with-colab-d23b372de313)."
      ]
    },
    {
      "cell_type": "code",
      "source": [
        "pip install matplotlib"
      ],
      "metadata": {
        "id": "fv1baYYnyqqE",
        "outputId": "7ac13748-d3f6-480b-d364-4183aee50b23",
        "colab": {
          "base_uri": "https://localhost:8080/"
        }
      },
      "execution_count": 2,
      "outputs": [
        {
          "output_type": "stream",
          "name": "stdout",
          "text": [
            "Requirement already satisfied: matplotlib in /usr/local/lib/python3.10/dist-packages (3.7.1)\n",
            "Requirement already satisfied: contourpy>=1.0.1 in /usr/local/lib/python3.10/dist-packages (from matplotlib) (1.1.0)\n",
            "Requirement already satisfied: cycler>=0.10 in /usr/local/lib/python3.10/dist-packages (from matplotlib) (0.11.0)\n",
            "Requirement already satisfied: fonttools>=4.22.0 in /usr/local/lib/python3.10/dist-packages (from matplotlib) (4.42.1)\n",
            "Requirement already satisfied: kiwisolver>=1.0.1 in /usr/local/lib/python3.10/dist-packages (from matplotlib) (1.4.4)\n",
            "Requirement already satisfied: numpy>=1.20 in /usr/local/lib/python3.10/dist-packages (from matplotlib) (1.23.5)\n",
            "Requirement already satisfied: packaging>=20.0 in /usr/local/lib/python3.10/dist-packages (from matplotlib) (23.1)\n",
            "Requirement already satisfied: pillow>=6.2.0 in /usr/local/lib/python3.10/dist-packages (from matplotlib) (9.4.0)\n",
            "Requirement already satisfied: pyparsing>=2.3.1 in /usr/local/lib/python3.10/dist-packages (from matplotlib) (3.1.1)\n",
            "Requirement already satisfied: python-dateutil>=2.7 in /usr/local/lib/python3.10/dist-packages (from matplotlib) (2.8.2)\n",
            "Requirement already satisfied: six>=1.5 in /usr/local/lib/python3.10/dist-packages (from python-dateutil>=2.7->matplotlib) (1.16.0)\n"
          ]
        }
      ]
    },
    {
      "cell_type": "code",
      "source": [
        "pip install hazm"
      ],
      "metadata": {
        "id": "8QfvW560yvUW",
        "outputId": "0e76e794-132f-4065-ed1e-82b625280115",
        "colab": {
          "base_uri": "https://localhost:8080/",
          "height": 750
        }
      },
      "execution_count": 3,
      "outputs": [
        {
          "output_type": "stream",
          "name": "stdout",
          "text": [
            "Collecting hazm\n",
            "  Downloading hazm-0.9.3-py3-none-any.whl (367 kB)\n",
            "\u001b[2K     \u001b[90m━━━━━━━━━━━━━━━━━━━━━━━━━━━━━━━━━━━━━━━\u001b[0m \u001b[32m367.5/367.5 kB\u001b[0m \u001b[31m3.7 MB/s\u001b[0m eta \u001b[36m0:00:00\u001b[0m\n",
            "\u001b[?25hCollecting fasttext-wheel<0.10.0,>=0.9.2 (from hazm)\n",
            "  Downloading fasttext_wheel-0.9.2-cp310-cp310-manylinux_2_17_x86_64.manylinux2014_x86_64.whl (4.4 MB)\n",
            "\u001b[2K     \u001b[90m━━━━━━━━━━━━━━━━━━━━━━━━━━━━━━━━━━━━━━━━\u001b[0m \u001b[32m4.4/4.4 MB\u001b[0m \u001b[31m10.8 MB/s\u001b[0m eta \u001b[36m0:00:00\u001b[0m\n",
            "\u001b[?25hRequirement already satisfied: gensim<5.0.0,>=4.3.1 in /usr/local/lib/python3.10/dist-packages (from hazm) (4.3.1)\n",
            "Requirement already satisfied: nltk<4.0.0,>=3.8.1 in /usr/local/lib/python3.10/dist-packages (from hazm) (3.8.1)\n",
            "Collecting numpy<2.0.0,>=1.24.3 (from hazm)\n",
            "  Downloading numpy-1.25.2-cp310-cp310-manylinux_2_17_x86_64.manylinux2014_x86_64.whl (18.2 MB)\n",
            "\u001b[2K     \u001b[90m━━━━━━━━━━━━━━━━━━━━━━━━━━━━━━━━━━━━━━━━\u001b[0m \u001b[32m18.2/18.2 MB\u001b[0m \u001b[31m44.9 MB/s\u001b[0m eta \u001b[36m0:00:00\u001b[0m\n",
            "\u001b[?25hCollecting python-crfsuite<0.10.0,>=0.9.9 (from hazm)\n",
            "  Downloading python_crfsuite-0.9.9-cp310-cp310-manylinux_2_17_x86_64.manylinux2014_x86_64.whl (993 kB)\n",
            "\u001b[2K     \u001b[90m━━━━━━━━━━━━━━━━━━━━━━━━━━━━━━━━━━━━━━\u001b[0m \u001b[32m993.5/993.5 kB\u001b[0m \u001b[31m62.5 MB/s\u001b[0m eta \u001b[36m0:00:00\u001b[0m\n",
            "\u001b[?25hRequirement already satisfied: scikit-learn<2.0.0,>=1.2.2 in /usr/local/lib/python3.10/dist-packages (from hazm) (1.2.2)\n",
            "Collecting pybind11>=2.2 (from fasttext-wheel<0.10.0,>=0.9.2->hazm)\n",
            "  Downloading pybind11-2.11.1-py3-none-any.whl (227 kB)\n",
            "\u001b[2K     \u001b[90m━━━━━━━━━━━━━━━━━━━━━━━━━━━━━━━━━━━━━━\u001b[0m \u001b[32m227.7/227.7 kB\u001b[0m \u001b[31m20.8 MB/s\u001b[0m eta \u001b[36m0:00:00\u001b[0m\n",
            "\u001b[?25hRequirement already satisfied: setuptools>=0.7.0 in /usr/local/lib/python3.10/dist-packages (from fasttext-wheel<0.10.0,>=0.9.2->hazm) (67.7.2)\n",
            "Requirement already satisfied: scipy>=1.7.0 in /usr/local/lib/python3.10/dist-packages (from gensim<5.0.0,>=4.3.1->hazm) (1.10.1)\n",
            "Requirement already satisfied: smart-open>=1.8.1 in /usr/local/lib/python3.10/dist-packages (from gensim<5.0.0,>=4.3.1->hazm) (6.3.0)\n",
            "Requirement already satisfied: click in /usr/local/lib/python3.10/dist-packages (from nltk<4.0.0,>=3.8.1->hazm) (8.1.7)\n",
            "Requirement already satisfied: joblib in /usr/local/lib/python3.10/dist-packages (from nltk<4.0.0,>=3.8.1->hazm) (1.3.2)\n",
            "Requirement already satisfied: regex>=2021.8.3 in /usr/local/lib/python3.10/dist-packages (from nltk<4.0.0,>=3.8.1->hazm) (2023.6.3)\n",
            "Requirement already satisfied: tqdm in /usr/local/lib/python3.10/dist-packages (from nltk<4.0.0,>=3.8.1->hazm) (4.66.1)\n",
            "Requirement already satisfied: threadpoolctl>=2.0.0 in /usr/local/lib/python3.10/dist-packages (from scikit-learn<2.0.0,>=1.2.2->hazm) (3.2.0)\n",
            "Installing collected packages: python-crfsuite, pybind11, numpy, fasttext-wheel, hazm\n",
            "  Attempting uninstall: numpy\n",
            "    Found existing installation: numpy 1.23.5\n",
            "    Uninstalling numpy-1.23.5:\n",
            "      Successfully uninstalled numpy-1.23.5\n",
            "\u001b[31mERROR: pip's dependency resolver does not currently take into account all the packages that are installed. This behaviour is the source of the following dependency conflicts.\n",
            "numba 0.56.4 requires numpy<1.24,>=1.18, but you have numpy 1.25.2 which is incompatible.\n",
            "tensorflow 2.12.0 requires numpy<1.24,>=1.22, but you have numpy 1.25.2 which is incompatible.\u001b[0m\u001b[31m\n",
            "\u001b[0mSuccessfully installed fasttext-wheel-0.9.2 hazm-0.9.3 numpy-1.25.2 pybind11-2.11.1 python-crfsuite-0.9.9\n"
          ]
        },
        {
          "output_type": "display_data",
          "data": {
            "application/vnd.colab-display-data+json": {
              "pip_warning": {
                "packages": [
                  "numpy"
                ]
              }
            }
          },
          "metadata": {}
        }
      ]
    },
    {
      "cell_type": "code",
      "source": [
        "!pip install stopwords_guilannlp\n"
      ],
      "metadata": {
        "id": "7CEtVtg3y2vr",
        "outputId": "b5c9f6c0-b2e0-4746-9a21-ae42a5f92ab6",
        "colab": {
          "base_uri": "https://localhost:8080/"
        }
      },
      "execution_count": 4,
      "outputs": [
        {
          "output_type": "stream",
          "name": "stdout",
          "text": [
            "Collecting stopwords_guilannlp\n",
            "  Downloading stopwords_guilannlp-13.2019.3.5-py3-none-any.whl (8.2 kB)\n",
            "Installing collected packages: stopwords_guilannlp\n",
            "Successfully installed stopwords_guilannlp-13.2019.3.5\n"
          ]
        }
      ]
    },
    {
      "cell_type": "code",
      "source": [
        "pip install gensim==3.8.3"
      ],
      "metadata": {
        "id": "XMsQRzaMz0WN",
        "outputId": "83ccf49d-ab1d-407a-a2d8-bc8bcff3bf20",
        "colab": {
          "base_uri": "https://localhost:8080/"
        }
      },
      "execution_count": 64,
      "outputs": [
        {
          "output_type": "stream",
          "name": "stdout",
          "text": [
            "Collecting gensim==3.8.3\n",
            "  Downloading gensim-3.8.3.tar.gz (23.4 MB)\n",
            "\u001b[2K     \u001b[90m━━━━━━━━━━━━━━━━━━━━━━━━━━━━━━━━━━━━━━━━\u001b[0m \u001b[32m23.4/23.4 MB\u001b[0m \u001b[31m34.5 MB/s\u001b[0m eta \u001b[36m0:00:00\u001b[0m\n",
            "\u001b[?25h  Preparing metadata (setup.py) ... \u001b[?25l\u001b[?25hdone\n",
            "Requirement already satisfied: numpy>=1.11.3 in /usr/local/lib/python3.10/dist-packages (from gensim==3.8.3) (1.25.2)\n",
            "Requirement already satisfied: scipy>=0.18.1 in /usr/local/lib/python3.10/dist-packages (from gensim==3.8.3) (1.10.1)\n",
            "Requirement already satisfied: six>=1.5.0 in /usr/local/lib/python3.10/dist-packages (from gensim==3.8.3) (1.16.0)\n",
            "Requirement already satisfied: smart_open>=1.8.1 in /usr/local/lib/python3.10/dist-packages (from gensim==3.8.3) (6.3.0)\n",
            "Building wheels for collected packages: gensim\n",
            "  \u001b[1;31merror\u001b[0m: \u001b[1msubprocess-exited-with-error\u001b[0m\n",
            "  \n",
            "  \u001b[31m×\u001b[0m \u001b[32mpython setup.py bdist_wheel\u001b[0m did not run successfully.\n",
            "  \u001b[31m│\u001b[0m exit code: \u001b[1;36m1\u001b[0m\n",
            "  \u001b[31m╰─>\u001b[0m See above for output.\n",
            "  \n",
            "  \u001b[1;35mnote\u001b[0m: This error originates from a subprocess, and is likely not a problem with pip.\n",
            "  Building wheel for gensim (setup.py) ... \u001b[?25lerror\n",
            "\u001b[31m  ERROR: Failed building wheel for gensim\u001b[0m\u001b[31m\n",
            "\u001b[0m\u001b[?25h  Running setup.py clean for gensim\n",
            "Failed to build gensim\n",
            "\u001b[31mERROR: Could not build wheels for gensim, which is required to install pyproject.toml-based projects\u001b[0m\u001b[31m\n",
            "\u001b[0m"
          ]
        }
      ]
    },
    {
      "cell_type": "code",
      "source": [
        "pip install Keras-Preprocessing\n"
      ],
      "metadata": {
        "colab": {
          "base_uri": "https://localhost:8080/"
        },
        "id": "1Jr8fGTi2pgA",
        "outputId": "820e51fe-f687-4a35-f8b2-d18a5945bda1"
      },
      "execution_count": 17,
      "outputs": [
        {
          "output_type": "stream",
          "name": "stdout",
          "text": [
            "Collecting Keras-Preprocessing\n",
            "  Downloading Keras_Preprocessing-1.1.2-py2.py3-none-any.whl (42 kB)\n",
            "\u001b[?25l     \u001b[90m━━━━━━━━━━━━━━━━━━━━━━━━━━━━━━━━━━━━━━━━\u001b[0m \u001b[32m0.0/42.6 kB\u001b[0m \u001b[31m?\u001b[0m eta \u001b[36m-:--:--\u001b[0m\r\u001b[2K     \u001b[90m━━━━━━━━━━━━━━━━━━━━━━━━━━━━━━━━━━━━━━━━\u001b[0m \u001b[32m42.6/42.6 kB\u001b[0m \u001b[31m1.1 MB/s\u001b[0m eta \u001b[36m0:00:00\u001b[0m\n",
            "\u001b[?25hRequirement already satisfied: numpy>=1.9.1 in /usr/local/lib/python3.10/dist-packages (from Keras-Preprocessing) (1.25.2)\n",
            "Requirement already satisfied: six>=1.9.0 in /usr/local/lib/python3.10/dist-packages (from Keras-Preprocessing) (1.16.0)\n",
            "Installing collected packages: Keras-Preprocessing\n",
            "Successfully installed Keras-Preprocessing-1.1.2\n"
          ]
        }
      ]
    },
    {
      "cell_type": "code",
      "source": [
        "!wget https://dl.fbaipublicfiles.com/fasttext/vectors-wiki/wiki.fa.vec\n"
      ],
      "metadata": {
        "id": "4u2hEvFQzErV",
        "outputId": "4d460bd9-152c-4886-9785-e97c4b9d1a8a",
        "colab": {
          "base_uri": "https://localhost:8080/"
        }
      },
      "execution_count": 6,
      "outputs": [
        {
          "output_type": "stream",
          "name": "stdout",
          "text": [
            "--2023-09-03 14:39:12--  https://dl.fbaipublicfiles.com/fasttext/vectors-wiki/wiki.fa.vec\n",
            "Resolving dl.fbaipublicfiles.com (dl.fbaipublicfiles.com)... 108.157.162.35, 108.157.162.108, 108.157.162.120, ...\n",
            "Connecting to dl.fbaipublicfiles.com (dl.fbaipublicfiles.com)|108.157.162.35|:443... connected.\n",
            "HTTP request sent, awaiting response... 200 OK\n",
            "Length: 1105157170 (1.0G) [binary/octet-stream]\n",
            "Saving to: ‘wiki.fa.vec’\n",
            "\n",
            "wiki.fa.vec         100%[===================>]   1.03G  86.6MB/s    in 13s     \n",
            "\n",
            "2023-09-03 14:39:26 (79.0 MB/s) - ‘wiki.fa.vec’ saved [1105157170/1105157170]\n",
            "\n"
          ]
        }
      ]
    },
    {
      "cell_type": "code",
      "source": [
        "import numpy as np\n",
        "import pandas as pd\n",
        "import codecs\n",
        "from google.colab import files\n",
        "from gensim import *\n",
        "from keras import optimizers\n",
        "from keras.models import Model, Sequential\n",
        "from keras.layers import Dense, Input, Embedding, Dropout\n",
        "from keras.layers import GlobalMaxPool1D, MaxPooling1D, GlobalMaxPooling1D\n",
        "from keras.layers import CuDNNLSTM, LSTM, Bidirectional\n",
        "from keras.layers.convolutional import Conv1D\n",
        "from keras.utils import plot_model\n",
        "from keras.preprocessing.text import Tokenizer\n",
        "from keras_preprocessing.sequence import pad_sequences\n",
        "\n",
        "from stopwords_guilannlp import stopwords_output\n",
        "from hazm import *\n",
        "%matplotlib inline\n",
        "import matplotlib.pyplot as plt\n",
        "from keras.utils import plot_model"
      ],
      "metadata": {
        "id": "70_JKaQjzQV8"
      },
      "execution_count": 6,
      "outputs": []
    },
    {
      "cell_type": "code",
      "source": [
        "upload = files.upload()\n"
      ],
      "metadata": {
        "colab": {
          "base_uri": "https://localhost:8080/",
          "height": 74
        },
        "id": "XgTQOL-L2z5Z",
        "outputId": "8e74e7dc-6eab-4b60-d874-a9e444f65ac5"
      },
      "execution_count": 25,
      "outputs": [
        {
          "output_type": "display_data",
          "data": {
            "text/plain": [
              "<IPython.core.display.HTML object>"
            ],
            "text/html": [
              "\n",
              "     <input type=\"file\" id=\"files-33d96234-0a85-4a36-ad6f-cebebbfa581f\" name=\"files[]\" multiple disabled\n",
              "        style=\"border:none\" />\n",
              "     <output id=\"result-33d96234-0a85-4a36-ad6f-cebebbfa581f\">\n",
              "      Upload widget is only available when the cell has been executed in the\n",
              "      current browser session. Please rerun this cell to enable.\n",
              "      </output>\n",
              "      <script>// Copyright 2017 Google LLC\n",
              "//\n",
              "// Licensed under the Apache License, Version 2.0 (the \"License\");\n",
              "// you may not use this file except in compliance with the License.\n",
              "// You may obtain a copy of the License at\n",
              "//\n",
              "//      http://www.apache.org/licenses/LICENSE-2.0\n",
              "//\n",
              "// Unless required by applicable law or agreed to in writing, software\n",
              "// distributed under the License is distributed on an \"AS IS\" BASIS,\n",
              "// WITHOUT WARRANTIES OR CONDITIONS OF ANY KIND, either express or implied.\n",
              "// See the License for the specific language governing permissions and\n",
              "// limitations under the License.\n",
              "\n",
              "/**\n",
              " * @fileoverview Helpers for google.colab Python module.\n",
              " */\n",
              "(function(scope) {\n",
              "function span(text, styleAttributes = {}) {\n",
              "  const element = document.createElement('span');\n",
              "  element.textContent = text;\n",
              "  for (const key of Object.keys(styleAttributes)) {\n",
              "    element.style[key] = styleAttributes[key];\n",
              "  }\n",
              "  return element;\n",
              "}\n",
              "\n",
              "// Max number of bytes which will be uploaded at a time.\n",
              "const MAX_PAYLOAD_SIZE = 100 * 1024;\n",
              "\n",
              "function _uploadFiles(inputId, outputId) {\n",
              "  const steps = uploadFilesStep(inputId, outputId);\n",
              "  const outputElement = document.getElementById(outputId);\n",
              "  // Cache steps on the outputElement to make it available for the next call\n",
              "  // to uploadFilesContinue from Python.\n",
              "  outputElement.steps = steps;\n",
              "\n",
              "  return _uploadFilesContinue(outputId);\n",
              "}\n",
              "\n",
              "// This is roughly an async generator (not supported in the browser yet),\n",
              "// where there are multiple asynchronous steps and the Python side is going\n",
              "// to poll for completion of each step.\n",
              "// This uses a Promise to block the python side on completion of each step,\n",
              "// then passes the result of the previous step as the input to the next step.\n",
              "function _uploadFilesContinue(outputId) {\n",
              "  const outputElement = document.getElementById(outputId);\n",
              "  const steps = outputElement.steps;\n",
              "\n",
              "  const next = steps.next(outputElement.lastPromiseValue);\n",
              "  return Promise.resolve(next.value.promise).then((value) => {\n",
              "    // Cache the last promise value to make it available to the next\n",
              "    // step of the generator.\n",
              "    outputElement.lastPromiseValue = value;\n",
              "    return next.value.response;\n",
              "  });\n",
              "}\n",
              "\n",
              "/**\n",
              " * Generator function which is called between each async step of the upload\n",
              " * process.\n",
              " * @param {string} inputId Element ID of the input file picker element.\n",
              " * @param {string} outputId Element ID of the output display.\n",
              " * @return {!Iterable<!Object>} Iterable of next steps.\n",
              " */\n",
              "function* uploadFilesStep(inputId, outputId) {\n",
              "  const inputElement = document.getElementById(inputId);\n",
              "  inputElement.disabled = false;\n",
              "\n",
              "  const outputElement = document.getElementById(outputId);\n",
              "  outputElement.innerHTML = '';\n",
              "\n",
              "  const pickedPromise = new Promise((resolve) => {\n",
              "    inputElement.addEventListener('change', (e) => {\n",
              "      resolve(e.target.files);\n",
              "    });\n",
              "  });\n",
              "\n",
              "  const cancel = document.createElement('button');\n",
              "  inputElement.parentElement.appendChild(cancel);\n",
              "  cancel.textContent = 'Cancel upload';\n",
              "  const cancelPromise = new Promise((resolve) => {\n",
              "    cancel.onclick = () => {\n",
              "      resolve(null);\n",
              "    };\n",
              "  });\n",
              "\n",
              "  // Wait for the user to pick the files.\n",
              "  const files = yield {\n",
              "    promise: Promise.race([pickedPromise, cancelPromise]),\n",
              "    response: {\n",
              "      action: 'starting',\n",
              "    }\n",
              "  };\n",
              "\n",
              "  cancel.remove();\n",
              "\n",
              "  // Disable the input element since further picks are not allowed.\n",
              "  inputElement.disabled = true;\n",
              "\n",
              "  if (!files) {\n",
              "    return {\n",
              "      response: {\n",
              "        action: 'complete',\n",
              "      }\n",
              "    };\n",
              "  }\n",
              "\n",
              "  for (const file of files) {\n",
              "    const li = document.createElement('li');\n",
              "    li.append(span(file.name, {fontWeight: 'bold'}));\n",
              "    li.append(span(\n",
              "        `(${file.type || 'n/a'}) - ${file.size} bytes, ` +\n",
              "        `last modified: ${\n",
              "            file.lastModifiedDate ? file.lastModifiedDate.toLocaleDateString() :\n",
              "                                    'n/a'} - `));\n",
              "    const percent = span('0% done');\n",
              "    li.appendChild(percent);\n",
              "\n",
              "    outputElement.appendChild(li);\n",
              "\n",
              "    const fileDataPromise = new Promise((resolve) => {\n",
              "      const reader = new FileReader();\n",
              "      reader.onload = (e) => {\n",
              "        resolve(e.target.result);\n",
              "      };\n",
              "      reader.readAsArrayBuffer(file);\n",
              "    });\n",
              "    // Wait for the data to be ready.\n",
              "    let fileData = yield {\n",
              "      promise: fileDataPromise,\n",
              "      response: {\n",
              "        action: 'continue',\n",
              "      }\n",
              "    };\n",
              "\n",
              "    // Use a chunked sending to avoid message size limits. See b/62115660.\n",
              "    let position = 0;\n",
              "    do {\n",
              "      const length = Math.min(fileData.byteLength - position, MAX_PAYLOAD_SIZE);\n",
              "      const chunk = new Uint8Array(fileData, position, length);\n",
              "      position += length;\n",
              "\n",
              "      const base64 = btoa(String.fromCharCode.apply(null, chunk));\n",
              "      yield {\n",
              "        response: {\n",
              "          action: 'append',\n",
              "          file: file.name,\n",
              "          data: base64,\n",
              "        },\n",
              "      };\n",
              "\n",
              "      let percentDone = fileData.byteLength === 0 ?\n",
              "          100 :\n",
              "          Math.round((position / fileData.byteLength) * 100);\n",
              "      percent.textContent = `${percentDone}% done`;\n",
              "\n",
              "    } while (position < fileData.byteLength);\n",
              "  }\n",
              "\n",
              "  // All done.\n",
              "  yield {\n",
              "    response: {\n",
              "      action: 'complete',\n",
              "    }\n",
              "  };\n",
              "}\n",
              "\n",
              "scope.google = scope.google || {};\n",
              "scope.google.colab = scope.google.colab || {};\n",
              "scope.google.colab._files = {\n",
              "  _uploadFiles,\n",
              "  _uploadFilesContinue,\n",
              "};\n",
              "})(self);\n",
              "</script> "
            ]
          },
          "metadata": {}
        },
        {
          "output_type": "stream",
          "name": "stdout",
          "text": [
            "Saving translation.csv to translation.csv\n"
          ]
        }
      ]
    },
    {
      "cell_type": "code",
      "source": [
        "test = pd.read_csv('test.csv', index_col=None, header=None, encoding=\"utf-8\")\n"
      ],
      "metadata": {
        "id": "UNVBlqNDzStO"
      },
      "execution_count": 9,
      "outputs": []
    },
    {
      "cell_type": "code",
      "source": [
        "\n",
        "x_test = test[0]\n",
        "y_test = test[1]"
      ],
      "metadata": {
        "id": "Gfx7bhdg3eT9"
      },
      "execution_count": 10,
      "outputs": []
    },
    {
      "cell_type": "code",
      "source": [
        "\n",
        "print('Number of testing sentence: ', x_test.shape)\n",
        "print('Number of testing label: ', y_test.shape)"
      ],
      "metadata": {
        "colab": {
          "base_uri": "https://localhost:8080/"
        },
        "id": "dpflSxG53hFI",
        "outputId": "3e4a3c8d-a2d1-4a67-bf8a-3e42047f7846"
      },
      "execution_count": 11,
      "outputs": [
        {
          "output_type": "stream",
          "name": "stdout",
          "text": [
            "Number of testing sentence:  (1854,)\n",
            "Number of testing label:  (1854,)\n"
          ]
        }
      ]
    },
    {
      "cell_type": "code",
      "source": [
        "y_test_binary = []\n",
        "x_test_binary = []\n",
        "for i, y in enumerate(y_test):\n",
        "  if int(y) != 0:\n",
        "    if int(y) > 0:\n",
        "      y_test_binary.append(1)\n",
        "      x_test_binary.append(x_test[i])\n",
        "    else:\n",
        "      y_test_binary.append(0)\n",
        "      x_test_binary.append(x_test[i])"
      ],
      "metadata": {
        "id": "UmmfkUCV3j-h"
      },
      "execution_count": 12,
      "outputs": []
    },
    {
      "cell_type": "code",
      "source": [
        "\n",
        "x_test = np.asarray(x_test_binary)\n",
        "y_test = np.asarray(y_test_binary)"
      ],
      "metadata": {
        "id": "m-7jpvwa3uZs"
      },
      "execution_count": 13,
      "outputs": []
    },
    {
      "cell_type": "code",
      "source": [
        "original = pd.read_csv('original.csv', index_col=None, header=None, encoding=\"utf-8\")\n",
        "balanced = pd.read_csv('balanced.csv', index_col=None, header=None, encoding=\"utf-8\")\n",
        "translation = pd.read_csv('translation.csv', index_col=None, header=None, encoding=\"utf-8\")"
      ],
      "metadata": {
        "id": "sZXiY_H83xl6"
      },
      "execution_count": 14,
      "outputs": []
    },
    {
      "cell_type": "code",
      "source": [
        "selected = translation\n"
      ],
      "metadata": {
        "id": "0q08J92-31td"
      },
      "execution_count": 15,
      "outputs": []
    },
    {
      "cell_type": "code",
      "source": [
        "selected = selected.sample(frac=1).reset_index(drop=True)\n"
      ],
      "metadata": {
        "id": "fYqeKgmp34W8"
      },
      "execution_count": 16,
      "outputs": []
    },
    {
      "cell_type": "code",
      "source": [
        "\n",
        "x_train = selected[0]\n",
        "y_train = selected[1]"
      ],
      "metadata": {
        "id": "o6iZRX3d34hn"
      },
      "execution_count": 17,
      "outputs": []
    },
    {
      "cell_type": "code",
      "source": [
        "\n",
        "print('Number of training sentence: ', x_train.shape)\n",
        "print('Number of training label: ', y_train.shape)"
      ],
      "metadata": {
        "colab": {
          "base_uri": "https://localhost:8080/"
        },
        "id": "usYeYvGc34rn",
        "outputId": "51f58336-b075-42c0-8817-8cab21e1c53e"
      },
      "execution_count": 18,
      "outputs": [
        {
          "output_type": "stream",
          "name": "stdout",
          "text": [
            "Number of training sentence:  (14046,)\n",
            "Number of training label:  (14046,)\n"
          ]
        }
      ]
    },
    {
      "cell_type": "code",
      "source": [
        "y_train_binary = []\n",
        "x_train_binary = []\n",
        "for i, y in enumerate(y_train):\n",
        "  if int(y) != 0:\n",
        "    if int(y) > 0:\n",
        "      y_train_binary.append(1)\n",
        "      x_train_binary.append(x_train[i])\n",
        "    else:\n",
        "      y_train_binary.append(0)\n",
        "      x_train_binary.append(x_train[i])"
      ],
      "metadata": {
        "id": "_rU5a8Tc3_Q2"
      },
      "execution_count": 19,
      "outputs": []
    },
    {
      "cell_type": "code",
      "source": [
        "x_train = np.asarray(x_train_binary)\n",
        "y_train = np.asarray(y_train_binary)"
      ],
      "metadata": {
        "id": "CSC2J2xe3_Tb"
      },
      "execution_count": 20,
      "outputs": []
    },
    {
      "cell_type": "code",
      "source": [
        "from collections import Counter\n",
        "cnt = Counter(y_train)\n",
        "cnt = dict(cnt)\n",
        "print(cnt)"
      ],
      "metadata": {
        "colab": {
          "base_uri": "https://localhost:8080/"
        },
        "id": "v6h9STIW7AYq",
        "outputId": "4830ac37-1080-48a2-f925-bcdad8d88d87"
      },
      "execution_count": 21,
      "outputs": [
        {
          "output_type": "stream",
          "name": "stdout",
          "text": [
            "{1: 7856, 0: 2190}\n"
          ]
        }
      ]
    },
    {
      "cell_type": "code",
      "source": [
        "\n",
        "labels = list(cnt.keys())\n",
        "sizes = list(cnt.values())\n",
        "colors = ['#CDC0B0', '#FF4040', '#8B5F65', '#FFAEB9', '#CD2626']\n",
        "fig1, ax1 = plt.subplots()\n",
        "ax1.pie(sizes, labels=labels, colors=colors,\n",
        "        autopct='%1.1f%%', startangle=90)\n",
        "centre_circle = plt.Circle((0,0),0.70,fc='white')\n",
        "fig = plt.gcf()\n",
        "fig.gca().add_artist(centre_circle)\n",
        "ax1.axis('equal')\n",
        "plt.tight_layout()\n",
        "\n",
        "plt.show()"
      ],
      "metadata": {
        "colab": {
          "base_uri": "https://localhost:8080/",
          "height": 487
        },
        "id": "N1EAi_293_VT",
        "outputId": "d61aab9a-95cb-4926-8691-1aedc2159d95"
      },
      "execution_count": 22,
      "outputs": [
        {
          "output_type": "display_data",
          "data": {
            "text/plain": [
              "<Figure size 640x480 with 1 Axes>"
            ],
            "image/png": "[encoded data removed]"
          },
          "metadata": {}
        }
      ]
    },
    {
      "cell_type": "code",
      "source": [
        "Punctuations_mark = ['،', '.', '؛', ':', ';', '\"']\n",
        "normalizer = Normalizer()\n",
        "lemmatizer = Lemmatizer()\n",
        "\n",
        "def clean(doc):\n",
        "  doc = normalizer.normalize(doc)\n",
        "  tokenized = word_tokenize(doc)\n",
        "  tokens = []\n",
        "\n",
        "  for t in tokenized:\n",
        "    temp = t\n",
        "    for p in Punctuations_mark:\n",
        "      temp = temp.replace(p, '')\n",
        "    tokens.append(temp)\n",
        "\n",
        "  tokens = [w for w in tokens if not len(w) <= 1]\n",
        "  tokens = [w for w in tokens if not w.isdigit()]\n",
        "  tokens = [lemmatizer.lemmatize(w) for w in tokens]\n",
        "  tokens = ' '.join(tokens)\n",
        "\n",
        "  return tokens"
      ],
      "metadata": {
        "id": "rhspkkqk3_XS"
      },
      "execution_count": 23,
      "outputs": []
    },
    {
      "cell_type": "code",
      "source": [
        "from gensim.models import keyedvectors\n",
        "EMBEDDING_FILE = 'wiki.fa.vec'\n",
        "\n",
        "def import_def(file_address):\n",
        "  ft_model = keyedvectors.load_word2vec_format(file_address)\n",
        "\n",
        "  ft_words = []\n",
        "  for ft_word in ft_model.key_to_index:\n",
        "    ft_words.append(ft_word)\n",
        "  return ft_model, ft_words\n",
        "\n",
        "ft_model, ft_words = import_def(EMBEDDING_FILE)"
      ],
      "metadata": {
        "id": "pvnM_vji3_ZZ"
      },
      "execution_count": 2,
      "outputs": []
    },
    {
      "cell_type": "code",
      "source": [
        "embed_size = 300\n"
      ],
      "metadata": {
        "id": "TFZ0TIA89MSX"
      },
      "execution_count": 4,
      "outputs": []
    },
    {
      "cell_type": "code",
      "source": [
        "embedding_list = list()\n",
        "for w in ft_words:\n",
        "  embedding_list.append(ft_model[w])\n",
        "\n",
        "all_embedding = np.stack(embedding_list)\n",
        "emb_mean, emb_std = all_embedding.mean(), all_embedding.std()"
      ],
      "metadata": {
        "id": "RKnoMqTp3_b3"
      },
      "execution_count": 7,
      "outputs": []
    },
    {
      "cell_type": "code",
      "source": [
        "train_documents = np.empty_like(x_train)\n",
        "for i, d in enumerate(x_train):\n",
        "  train_documents[i] = clean(d)"
      ],
      "metadata": {
        "id": "L_Ry3JAr3_et"
      },
      "execution_count": 24,
      "outputs": []
    },
    {
      "cell_type": "code",
      "source": [
        "test_documents = np.empty_like(x_test)\n",
        "for i, d in enumerate(x_test):\n",
        "  test_documents[i] = clean(d)"
      ],
      "metadata": {
        "id": "7sKl2lWN3_g0"
      },
      "execution_count": 26,
      "outputs": []
    },
    {
      "cell_type": "code",
      "source": [
        "number_of_words = 2500\n",
        "\n",
        "tokenizer = Tokenizer()\n",
        "tokenizer.fit_on_texts(train_documents)"
      ],
      "metadata": {
        "id": "NdHVc4Bw3_kV"
      },
      "execution_count": 27,
      "outputs": []
    },
    {
      "cell_type": "code",
      "source": [
        "max_l = max([len(s.split()) for s in train_documents])"
      ],
      "metadata": {
        "id": "ih3wpl-UAKN_"
      },
      "execution_count": 28,
      "outputs": []
    },
    {
      "cell_type": "code",
      "source": [
        "encoded_documents = tokenizer.texts_to_sequences(train_documents)\n",
        "\n",
        "x_train_padded = pad_sequences(encoded_documents, maxlen = max_l, padding = \"post\")\n"
      ],
      "metadata": {
        "id": "lXnE4btGAXH_"
      },
      "execution_count": 29,
      "outputs": []
    },
    {
      "cell_type": "code",
      "source": [
        "vocab_size = len(tokenizer.word_index)"
      ],
      "metadata": {
        "id": "b9y09N8EBNAm"
      },
      "execution_count": 30,
      "outputs": []
    },
    {
      "cell_type": "code",
      "source": [
        "nb_words = len(tokenizer.word_index)\n",
        "embedding_matrix = np.random.normal(emb_mean, emb_std, (nb_words, embed_size))\n",
        "\n",
        "embedded_Count = 0\n",
        "for w, i in tokenizer.word_index.items():\n",
        "  i-=1\n",
        "\n",
        "  if w in ft_model.key_to_index:\n",
        "    embedding_vector = ft_model[w]\n",
        "    embedding_matrix[i] = embedding_vector\n",
        "    embedded_Count += 1\n",
        "\n",
        "  else:\n",
        "    embedding_vector = ft_model['subdivision_name']\n",
        "    embedding_matrix[i] = embedding_vector\n",
        "    embedded_Count += 1\n",
        "\n",
        "print('total embedded:', embedded_Count, 'common words')\n",
        "print('embedding matrix shape:', embedding_matrix.shape)\n",
        "\n"
      ],
      "metadata": {
        "colab": {
          "base_uri": "https://localhost:8080/"
        },
        "id": "-Cl0sXJ0BWzA",
        "outputId": "a580249a-a8bd-46b0-ff28-fca62e91c73e"
      },
      "execution_count": 36,
      "outputs": [
        {
          "output_type": "stream",
          "name": "stdout",
          "text": [
            "total embedded: 6704 common words\n",
            "embedding matrix shape: (6704, 300)\n"
          ]
        }
      ]
    },
    {
      "cell_type": "code",
      "source": [
        "encoded_documents = tokenizer.texts_to_sequences(test_documents)\n",
        "x_test_padded = pad_sequences(encoded_documents, maxlen = max_l, padding = \"post\")"
      ],
      "metadata": {
        "id": "_kj-RcO1BXA0"
      },
      "execution_count": 39,
      "outputs": []
    },
    {
      "cell_type": "code",
      "source": [
        "model_blstm = Sequential()\n",
        "model_blstm.add(Embedding(vocab_size, embedding_matrix.shape[1], weights = [embedding_matrix], trainable = False))\n",
        "model_blstm.add(Bidirectional(CuDNNLSTM(300, return_sequences= True, name = 'lstm_layer')))\n",
        "\n",
        "model_blstm.add(GlobalMaxPool1D())\n",
        "model_blstm.add(Dropout(0.1))\n",
        "model_blstm.add(Dense(300, activation=\"relu\"))\n",
        "model_blstm.add(Dropout(0.1))\n",
        "model_blstm.add(Dense(1, activation='sigmoid'))"
      ],
      "metadata": {
        "id": "l8HCCVD5BXGi"
      },
      "execution_count": 41,
      "outputs": []
    },
    {
      "cell_type": "code",
      "source": [
        "model_blstm.compile(loss= 'binary_crossentropy',\n",
        "                    optimizer = 'adam',\n",
        "                    metrics =  ['accuracy'])\n",
        "\n",
        "model_blstm.summary()\n",
        "batch_size_blstm = 32\n",
        "epochs_blstm = 5"
      ],
      "metadata": {
        "colab": {
          "base_uri": "https://localhost:8080/"
        },
        "id": "VKc5SOpIBXJf",
        "outputId": "4f87c4c3-84e0-49af-fba8-c48bfde05ed1"
      },
      "execution_count": 44,
      "outputs": [
        {
          "output_type": "stream",
          "name": "stdout",
          "text": [
            "Model: \"sequential_1\"\n",
            "_________________________________________________________________\n",
            " Layer (type)                Output Shape              Param #   \n",
            "=================================================================\n",
            " embedding_1 (Embedding)     (None, None, 300)         2011200   \n",
            "                                                                 \n",
            " bidirectional (Bidirectiona  (None, None, 600)        1444800   \n",
            " l)                                                              \n",
            "                                                                 \n",
            " global_max_pooling1d (Globa  (None, 600)              0         \n",
            " lMaxPooling1D)                                                  \n",
            "                                                                 \n",
            " dropout (Dropout)           (None, 600)               0         \n",
            "                                                                 \n",
            " dense (Dense)               (None, 300)               180300    \n",
            "                                                                 \n",
            " dropout_1 (Dropout)         (None, 300)               0         \n",
            "                                                                 \n",
            " dense_1 (Dense)             (None, 1)                 301       \n",
            "                                                                 \n",
            "=================================================================\n",
            "Total params: 3,636,601\n",
            "Trainable params: 1,625,401\n",
            "Non-trainable params: 2,011,200\n",
            "_________________________________________________________________\n"
          ]
        }
      ]
    },
    {
      "cell_type": "code",
      "source": [
        "hist_blstm = model_blstm.fit(x_train_padded, y_train, batch_size=batch_size_blstm, epochs=epochs_blstm)\n"
      ],
      "metadata": {
        "colab": {
          "base_uri": "https://localhost:8080/",
          "height": 589
        },
        "id": "yWAZPwBzBXLb",
        "outputId": "620df19e-458f-45ec-8479-faac038d02d6"
      },
      "execution_count": 49,
      "outputs": [
        {
          "output_type": "stream",
          "name": "stdout",
          "text": [
            "Epoch 1/5\n"
          ]
        },
        {
          "output_type": "error",
          "ename": "InvalidArgumentError",
          "evalue": "ignored",
          "traceback": [
            "\u001b[0;31m---------------------------------------------------------------------------\u001b[0m",
            "\u001b[0;31mInvalidArgumentError\u001b[0m                      Traceback (most recent call last)",
            "\u001b[0;32m<ipython-input-49-2c7e5e84149b>\u001b[0m in \u001b[0;36m<cell line: 1>\u001b[0;34m()\u001b[0m\n\u001b[0;32m----> 1\u001b[0;31m \u001b[0mhist_blstm\u001b[0m \u001b[0;34m=\u001b[0m \u001b[0mmodel_blstm\u001b[0m\u001b[0;34m.\u001b[0m\u001b[0mfit\u001b[0m\u001b[0;34m(\u001b[0m\u001b[0mx_train_padded\u001b[0m\u001b[0;34m,\u001b[0m \u001b[0my_train\u001b[0m\u001b[0;34m,\u001b[0m \u001b[0mbatch_size\u001b[0m\u001b[0;34m=\u001b[0m\u001b[0mbatch_size_blstm\u001b[0m\u001b[0;34m,\u001b[0m \u001b[0mepochs\u001b[0m\u001b[0;34m=\u001b[0m\u001b[0mepochs_blstm\u001b[0m\u001b[0;34m)\u001b[0m\u001b[0;34m\u001b[0m\u001b[0;34m\u001b[0m\u001b[0m\n\u001b[0m",
            "\u001b[0;32m/usr/local/lib/python3.10/dist-packages/keras/utils/traceback_utils.py\u001b[0m in \u001b[0;36merror_handler\u001b[0;34m(*args, **kwargs)\u001b[0m\n\u001b[1;32m     68\u001b[0m             \u001b[0;31m# To get the full stack trace, call:\u001b[0m\u001b[0;34m\u001b[0m\u001b[0;34m\u001b[0m\u001b[0m\n\u001b[1;32m     69\u001b[0m             \u001b[0;31m# `tf.debugging.disable_traceback_filtering()`\u001b[0m\u001b[0;34m\u001b[0m\u001b[0;34m\u001b[0m\u001b[0m\n\u001b[0;32m---> 70\u001b[0;31m             \u001b[0;32mraise\u001b[0m \u001b[0me\u001b[0m\u001b[0;34m.\u001b[0m\u001b[0mwith_traceback\u001b[0m\u001b[0;34m(\u001b[0m\u001b[0mfiltered_tb\u001b[0m\u001b[0;34m)\u001b[0m \u001b[0;32mfrom\u001b[0m \u001b[0;32mNone\u001b[0m\u001b[0;34m\u001b[0m\u001b[0;34m\u001b[0m\u001b[0m\n\u001b[0m\u001b[1;32m     71\u001b[0m         \u001b[0;32mfinally\u001b[0m\u001b[0;34m:\u001b[0m\u001b[0;34m\u001b[0m\u001b[0;34m\u001b[0m\u001b[0m\n\u001b[1;32m     72\u001b[0m             \u001b[0;32mdel\u001b[0m \u001b[0mfiltered_tb\u001b[0m\u001b[0;34m\u001b[0m\u001b[0;34m\u001b[0m\u001b[0m\n",
            "\u001b[0;32m/usr/local/lib/python3.10/dist-packages/tensorflow/python/eager/execute.py\u001b[0m in \u001b[0;36mquick_execute\u001b[0;34m(op_name, num_outputs, inputs, attrs, ctx, name)\u001b[0m\n\u001b[1;32m     50\u001b[0m   \u001b[0;32mtry\u001b[0m\u001b[0;34m:\u001b[0m\u001b[0;34m\u001b[0m\u001b[0;34m\u001b[0m\u001b[0m\n\u001b[1;32m     51\u001b[0m     \u001b[0mctx\u001b[0m\u001b[0;34m.\u001b[0m\u001b[0mensure_initialized\u001b[0m\u001b[0;34m(\u001b[0m\u001b[0;34m)\u001b[0m\u001b[0;34m\u001b[0m\u001b[0;34m\u001b[0m\u001b[0m\n\u001b[0;32m---> 52\u001b[0;31m     tensors = pywrap_tfe.TFE_Py_Execute(ctx._handle, device_name, op_name,\n\u001b[0m\u001b[1;32m     53\u001b[0m                                         inputs, attrs, num_outputs)\n\u001b[1;32m     54\u001b[0m   \u001b[0;32mexcept\u001b[0m \u001b[0mcore\u001b[0m\u001b[0;34m.\u001b[0m\u001b[0m_NotOkStatusException\u001b[0m \u001b[0;32mas\u001b[0m \u001b[0me\u001b[0m\u001b[0;34m:\u001b[0m\u001b[0;34m\u001b[0m\u001b[0;34m\u001b[0m\u001b[0m\n",
            "\u001b[0;31mInvalidArgumentError\u001b[0m: No OpKernel was registered to support Op 'CudnnRNNV2' used by {{node sequential_1/bidirectional/forward_lstm_layer/CudnnRNNV2}} with these attrs: [T=DT_FLOAT, dropout=0, direction=\"unidirectional\", seed2=0, input_mode=\"linear_input\", rnn_mode=\"lstm\", is_training=true, seed=0]\nRegistered devices: [CPU]\nRegistered kernels:\n  device='GPU'; T in [DT_DOUBLE]\n  device='GPU'; T in [DT_FLOAT]\n  device='GPU'; T in [DT_HALF]\n\n\t [[sequential_1/bidirectional/forward_lstm_layer/CudnnRNNV2]] [Op:__inference_train_function_3303]"
          ]
        }
      ]
    },
    {
      "cell_type": "code",
      "source": [
        "model_blstm.save_weights('model_blstm_weights_binary.h5')\n",
        "\n",
        "# Evaluate model\n",
        "loss_blstm, acc_blstm = model_blstm.evaluate(x_test_padded, y_test, verbose=0)\n",
        "print('Test Accuracy: %f' % (acc_blstm*100))"
      ],
      "metadata": {
        "colab": {
          "base_uri": "https://localhost:8080/",
          "height": 624
        },
        "id": "1epyxwkUBXOy",
        "outputId": "4bc52e50-b814-4cde-9fda-9c37a63aa652"
      },
      "execution_count": 47,
      "outputs": [
        {
          "output_type": "error",
          "ename": "InvalidArgumentError",
          "evalue": "ignored",
          "traceback": [
            "\u001b[0;31m---------------------------------------------------------------------------\u001b[0m",
            "\u001b[0;31mInvalidArgumentError\u001b[0m                      Traceback (most recent call last)",
            "\u001b[0;32m<ipython-input-47-56c39ef87b59>\u001b[0m in \u001b[0;36m<cell line: 4>\u001b[0;34m()\u001b[0m\n\u001b[1;32m      2\u001b[0m \u001b[0;34m\u001b[0m\u001b[0m\n\u001b[1;32m      3\u001b[0m \u001b[0;31m# Evaluate model\u001b[0m\u001b[0;34m\u001b[0m\u001b[0;34m\u001b[0m\u001b[0m\n\u001b[0;32m----> 4\u001b[0;31m \u001b[0mloss_blstm\u001b[0m\u001b[0;34m,\u001b[0m \u001b[0macc_blstm\u001b[0m \u001b[0;34m=\u001b[0m \u001b[0mmodel_blstm\u001b[0m\u001b[0;34m.\u001b[0m\u001b[0mevaluate\u001b[0m\u001b[0;34m(\u001b[0m\u001b[0mx_test_padded\u001b[0m\u001b[0;34m,\u001b[0m \u001b[0my_test\u001b[0m\u001b[0;34m,\u001b[0m \u001b[0mverbose\u001b[0m\u001b[0;34m=\u001b[0m\u001b[0;36m0\u001b[0m\u001b[0;34m)\u001b[0m\u001b[0;34m\u001b[0m\u001b[0;34m\u001b[0m\u001b[0m\n\u001b[0m\u001b[1;32m      5\u001b[0m \u001b[0mprint\u001b[0m\u001b[0;34m(\u001b[0m\u001b[0;34m'Test Accuracy: %f'\u001b[0m \u001b[0;34m%\u001b[0m \u001b[0;34m(\u001b[0m\u001b[0macc_blstm\u001b[0m\u001b[0;34m*\u001b[0m\u001b[0;36m100\u001b[0m\u001b[0;34m)\u001b[0m\u001b[0;34m)\u001b[0m\u001b[0;34m\u001b[0m\u001b[0;34m\u001b[0m\u001b[0m\n",
            "\u001b[0;32m/usr/local/lib/python3.10/dist-packages/keras/utils/traceback_utils.py\u001b[0m in \u001b[0;36merror_handler\u001b[0;34m(*args, **kwargs)\u001b[0m\n\u001b[1;32m     68\u001b[0m             \u001b[0;31m# To get the full stack trace, call:\u001b[0m\u001b[0;34m\u001b[0m\u001b[0;34m\u001b[0m\u001b[0m\n\u001b[1;32m     69\u001b[0m             \u001b[0;31m# `tf.debugging.disable_traceback_filtering()`\u001b[0m\u001b[0;34m\u001b[0m\u001b[0;34m\u001b[0m\u001b[0m\n\u001b[0;32m---> 70\u001b[0;31m             \u001b[0;32mraise\u001b[0m \u001b[0me\u001b[0m\u001b[0;34m.\u001b[0m\u001b[0mwith_traceback\u001b[0m\u001b[0;34m(\u001b[0m\u001b[0mfiltered_tb\u001b[0m\u001b[0;34m)\u001b[0m \u001b[0;32mfrom\u001b[0m \u001b[0;32mNone\u001b[0m\u001b[0;34m\u001b[0m\u001b[0;34m\u001b[0m\u001b[0m\n\u001b[0m\u001b[1;32m     71\u001b[0m         \u001b[0;32mfinally\u001b[0m\u001b[0;34m:\u001b[0m\u001b[0;34m\u001b[0m\u001b[0;34m\u001b[0m\u001b[0m\n\u001b[1;32m     72\u001b[0m             \u001b[0;32mdel\u001b[0m \u001b[0mfiltered_tb\u001b[0m\u001b[0;34m\u001b[0m\u001b[0;34m\u001b[0m\u001b[0m\n",
            "\u001b[0;32m/usr/local/lib/python3.10/dist-packages/tensorflow/python/eager/execute.py\u001b[0m in \u001b[0;36mquick_execute\u001b[0;34m(op_name, num_outputs, inputs, attrs, ctx, name)\u001b[0m\n\u001b[1;32m     50\u001b[0m   \u001b[0;32mtry\u001b[0m\u001b[0;34m:\u001b[0m\u001b[0;34m\u001b[0m\u001b[0;34m\u001b[0m\u001b[0m\n\u001b[1;32m     51\u001b[0m     \u001b[0mctx\u001b[0m\u001b[0;34m.\u001b[0m\u001b[0mensure_initialized\u001b[0m\u001b[0;34m(\u001b[0m\u001b[0;34m)\u001b[0m\u001b[0;34m\u001b[0m\u001b[0;34m\u001b[0m\u001b[0m\n\u001b[0;32m---> 52\u001b[0;31m     tensors = pywrap_tfe.TFE_Py_Execute(ctx._handle, device_name, op_name,\n\u001b[0m\u001b[1;32m     53\u001b[0m                                         inputs, attrs, num_outputs)\n\u001b[1;32m     54\u001b[0m   \u001b[0;32mexcept\u001b[0m \u001b[0mcore\u001b[0m\u001b[0;34m.\u001b[0m\u001b[0m_NotOkStatusException\u001b[0m \u001b[0;32mas\u001b[0m \u001b[0me\u001b[0m\u001b[0;34m:\u001b[0m\u001b[0;34m\u001b[0m\u001b[0;34m\u001b[0m\u001b[0m\n",
            "\u001b[0;31mInvalidArgumentError\u001b[0m: No OpKernel was registered to support Op 'CudnnRNNV2' used by {{node sequential_1/bidirectional/forward_lstm_layer/CudnnRNNV2}} with these attrs: [direction=\"unidirectional\", rnn_mode=\"lstm\", dropout=0, is_training=true, T=DT_FLOAT, input_mode=\"linear_input\", seed=0, seed2=0]\nRegistered devices: [CPU]\nRegistered kernels:\n  device='GPU'; T in [DT_DOUBLE]\n  device='GPU'; T in [DT_FLOAT]\n  device='GPU'; T in [DT_HALF]\n\n\t [[sequential_1/bidirectional/forward_lstm_layer/CudnnRNNV2]] [Op:__inference_test_function_3765]"
          ]
        }
      ]
    },
    {
      "cell_type": "code",
      "source": [
        "predict_x=model_blstm.predict(x_test_padded)\n",
        "y_pred_blstm=np.argmax(predict_x,axis=1)"
      ],
      "metadata": {
        "colab": {
          "base_uri": "https://localhost:8080/",
          "height": 571
        },
        "id": "65e3jW5CJa8R",
        "outputId": "f7458044-d101-47ba-8225-f6c0188b6888"
      },
      "execution_count": 48,
      "outputs": [
        {
          "output_type": "error",
          "ename": "InvalidArgumentError",
          "evalue": "ignored",
          "traceback": [
            "\u001b[0;31m---------------------------------------------------------------------------\u001b[0m",
            "\u001b[0;31mInvalidArgumentError\u001b[0m                      Traceback (most recent call last)",
            "\u001b[0;32m<ipython-input-48-4d01e0e0d71c>\u001b[0m in \u001b[0;36m<cell line: 1>\u001b[0;34m()\u001b[0m\n\u001b[0;32m----> 1\u001b[0;31m \u001b[0mpredict_x\u001b[0m\u001b[0;34m=\u001b[0m\u001b[0mmodel_blstm\u001b[0m\u001b[0;34m.\u001b[0m\u001b[0mpredict\u001b[0m\u001b[0;34m(\u001b[0m\u001b[0mx_test_padded\u001b[0m\u001b[0;34m)\u001b[0m\u001b[0;34m\u001b[0m\u001b[0;34m\u001b[0m\u001b[0m\n\u001b[0m\u001b[1;32m      2\u001b[0m \u001b[0my_pred_blstm\u001b[0m\u001b[0;34m=\u001b[0m\u001b[0mnp\u001b[0m\u001b[0;34m.\u001b[0m\u001b[0margmax\u001b[0m\u001b[0;34m(\u001b[0m\u001b[0mpredict_x\u001b[0m\u001b[0;34m,\u001b[0m\u001b[0maxis\u001b[0m\u001b[0;34m=\u001b[0m\u001b[0;36m1\u001b[0m\u001b[0;34m)\u001b[0m\u001b[0;34m\u001b[0m\u001b[0;34m\u001b[0m\u001b[0m\n",
            "\u001b[0;32m/usr/local/lib/python3.10/dist-packages/keras/utils/traceback_utils.py\u001b[0m in \u001b[0;36merror_handler\u001b[0;34m(*args, **kwargs)\u001b[0m\n\u001b[1;32m     68\u001b[0m             \u001b[0;31m# To get the full stack trace, call:\u001b[0m\u001b[0;34m\u001b[0m\u001b[0;34m\u001b[0m\u001b[0m\n\u001b[1;32m     69\u001b[0m             \u001b[0;31m# `tf.debugging.disable_traceback_filtering()`\u001b[0m\u001b[0;34m\u001b[0m\u001b[0;34m\u001b[0m\u001b[0m\n\u001b[0;32m---> 70\u001b[0;31m             \u001b[0;32mraise\u001b[0m \u001b[0me\u001b[0m\u001b[0;34m.\u001b[0m\u001b[0mwith_traceback\u001b[0m\u001b[0;34m(\u001b[0m\u001b[0mfiltered_tb\u001b[0m\u001b[0;34m)\u001b[0m \u001b[0;32mfrom\u001b[0m \u001b[0;32mNone\u001b[0m\u001b[0;34m\u001b[0m\u001b[0;34m\u001b[0m\u001b[0m\n\u001b[0m\u001b[1;32m     71\u001b[0m         \u001b[0;32mfinally\u001b[0m\u001b[0;34m:\u001b[0m\u001b[0;34m\u001b[0m\u001b[0;34m\u001b[0m\u001b[0m\n\u001b[1;32m     72\u001b[0m             \u001b[0;32mdel\u001b[0m \u001b[0mfiltered_tb\u001b[0m\u001b[0;34m\u001b[0m\u001b[0;34m\u001b[0m\u001b[0m\n",
            "\u001b[0;32m/usr/local/lib/python3.10/dist-packages/tensorflow/python/eager/execute.py\u001b[0m in \u001b[0;36mquick_execute\u001b[0;34m(op_name, num_outputs, inputs, attrs, ctx, name)\u001b[0m\n\u001b[1;32m     50\u001b[0m   \u001b[0;32mtry\u001b[0m\u001b[0;34m:\u001b[0m\u001b[0;34m\u001b[0m\u001b[0;34m\u001b[0m\u001b[0m\n\u001b[1;32m     51\u001b[0m     \u001b[0mctx\u001b[0m\u001b[0;34m.\u001b[0m\u001b[0mensure_initialized\u001b[0m\u001b[0;34m(\u001b[0m\u001b[0;34m)\u001b[0m\u001b[0;34m\u001b[0m\u001b[0;34m\u001b[0m\u001b[0m\n\u001b[0;32m---> 52\u001b[0;31m     tensors = pywrap_tfe.TFE_Py_Execute(ctx._handle, device_name, op_name,\n\u001b[0m\u001b[1;32m     53\u001b[0m                                         inputs, attrs, num_outputs)\n\u001b[1;32m     54\u001b[0m   \u001b[0;32mexcept\u001b[0m \u001b[0mcore\u001b[0m\u001b[0;34m.\u001b[0m\u001b[0m_NotOkStatusException\u001b[0m \u001b[0;32mas\u001b[0m \u001b[0me\u001b[0m\u001b[0;34m:\u001b[0m\u001b[0;34m\u001b[0m\u001b[0;34m\u001b[0m\u001b[0m\n",
            "\u001b[0;31mInvalidArgumentError\u001b[0m: No OpKernel was registered to support Op 'CudnnRNNV2' used by {{node sequential_1/bidirectional/forward_lstm_layer/CudnnRNNV2}} with these attrs: [seed2=0, T=DT_FLOAT, seed=0, rnn_mode=\"lstm\", dropout=0, input_mode=\"linear_input\", direction=\"unidirectional\", is_training=true]\nRegistered devices: [CPU]\nRegistered kernels:\n  device='GPU'; T in [DT_DOUBLE]\n  device='GPU'; T in [DT_FLOAT]\n  device='GPU'; T in [DT_HALF]\n\n\t [[sequential_1/bidirectional/forward_lstm_layer/CudnnRNNV2]] [Op:__inference_predict_function_4123]"
          ]
        }
      ]
    },
    {
      "cell_type": "markdown",
      "metadata": {
        "id": "IPBcIWWGZRTt"
      },
      "source": [
        "## 2023/08/18\n",
        "\n",
        "*   Added \"Change runtime type\" to the menu in the connection button.\n",
        "*   Improved auto-reconnection to an already running notebook ([#3764](https://github.com/googlecolab/colabtools/issues/3764))\n",
        "*   Increased the specs of our highmem machines for Pro users.\n",
        "*   Fixed `add-apt-repository` command on Ubuntu 22.04 runtime ([#3867](https://github.com/googlecolab/colabtools/issues/3867))\n",
        "*   Python package upgrades\n",
        "    * bokeh 2.4.3 -> 3.2.2\n",
        "    * cmake 3.25.2 -> 3.27.2\n",
        "    * cryptography 3.4.8 -> 41.0.3\n",
        "    * dask 2022.12.1 -> 2023.8.0\n",
        "    * distributed 2022.12.1 -> 2023.8.0\n",
        "    * earthengine-api 0.1.358 -> 0.1.364\n",
        "    * flax 0.7.0 -> 0.7.2\n",
        "    * ipython-sql 0.4.0 -> 0.5.0\n",
        "    * jax 0.4.13 -> 0.4.14\n",
        "    * jaxlib 0.4.13 -> 0.4.14\n",
        "    * lightgbm 3.3.5 -> 4.0.0\n",
        "    * mkl 2019.0 -> 2023.2.0\n",
        "    * notebook 6.4.8 -> 6.5.5\n",
        "    * numpy 1.22.4 -> 1.23.5\n",
        "    * opencv-python 4.7.0.72 -> 4.8.0.76\n",
        "    * pillow 8.4.0 -> 9.4.0\n",
        "    * plotly 5.13.1 -> 5.15.0\n",
        "    * prettytable 0.7.2 -> 3.8.0\n",
        "    * pytensor 2.10.1 -> 2.14.2\n",
        "    * spacy 3.5.4 -> 3.6.1\n",
        "    * statsmodels 0.13.5 -> 0.14.0\n",
        "    * xarray 2022.12.0 -> 2023.7.0\n",
        "*   Python package inclusions\n",
        "    * PyDrive2 1.6.3"
      ]
    },
    {
      "cell_type": "markdown",
      "metadata": {
        "id": "MnO60ArT71cM"
      },
      "source": [
        "## 2023/07/21\n",
        "\n",
        "*   Launched auto-plotting for dataframes, available using the chart button that shows up alongside datatables ([post](https://medium.com/google-colab/colab-data-visualizations-made-easy-5e1918e5234e))\n",
        "*   Added a menu to the table of contents to support running a section or collapsing/expanding sections ([post](https://medium.com/google-colab/two-new-ways-to-manage-cell-execution-fbad61b40882))\n",
        "*   Added an option to automatically run the first cell or section, available under Edit -> Notebook settings ([post](https://medium.com/google-colab/two-new-ways-to-manage-cell-execution-fbad61b40882))\n",
        "*   Launched Pro/Pro+ to Algeria, Argentina, Chile, Ecuador, Egypt, Ghana, Kenya, Malaysia, Nepal, Nigeria, Peru, Rwanda, Saudi Arabia, South Africa, Sri Lanka, Tunisia, and Ukraine ([tweet](https://twitter.com/GoogleColab/status/1674412460017700866))\n",
        "*   Added a command, \"Toggle tab moves focus\" for toggling tab trapping in the editor (Tools -> Command palette, \"Toggle tab moves focus\")\n",
        "*   Fixed issue where `files.upload()` was sometimes returning an incorrect filename ([#1550](https://github.com/googlecolab/colabtools/issues/1550))\n",
        "*   Fixed f-string syntax highlighting bug ([#3802](https://github.com/googlecolab/colabtools/issues/3802))\n",
        "*   Disabled ambiguous characters highlighting for commonly used LaTeX characters ([#3648](https://github.com/googlecolab/colabtools/issues/3648))\n",
        "*   Upgraded Ubuntu from 20.04 LTS to [22.04 LTS](https://discourse.ubuntu.com/t/jammy-jellyfish-release-notes/24668).\n",
        "*   Updated the Colab Marketplace VM image\n",
        "*   Python package upgrades:\n",
        "    * autograd 1.6.1 -> 1.6.2\n",
        "    * drivefs 76.0 -> 77.0\n",
        "    * flax 0.6.11 -> 0.7.0\n",
        "    * earthengine-api 0.1.357 -> 0.1.358\n",
        "    * GDAL 3.3.2->3.4.3\n",
        "    * google-cloud-bigquery-storage 2.20.0 -> 2.22.2\n",
        "    * gspread-dataframe 3.0.8 -> 3.3.1\n",
        "    * holidays 0.27.1 -> 0.29\n",
        "    * jax 0.4.10 -> jax 0.4.13\n",
        "    * jaxlib 0.4.10 -> jax 0.4.13\n",
        "    * jupyterlab-widgets 3.0.7 -> 3.0.8\n",
        "    * nbformat 5.9.0 ->  5.9.1\n",
        "    * opencv-python-headless 4.7.0.72 -> 4.8.0.74\n",
        "    * pygame 2.4.0 -> 2.5.0\n",
        "    * spacy 3.5.3 -> 3.5.4\n",
        "    * SQLAlchemy 2.0.16 -> 2.0.19\n",
        "    * tabulate 0.8.10 -> 0.9.0\n",
        "    * tensorflow-hub 0.13.0 -> 0.14.0"
      ]
    },
    {
      "cell_type": "markdown",
      "metadata": {
        "id": "ZWU461-HV1cm"
      },
      "source": [
        "## 2023/06/23\n",
        "\n",
        "* Launched AI coding features to subscribed users starting with Pro+ users in the US ([tweet](https://twitter.com/GoogleColab/status/1661056135196217346), [post](https://blog.google/technology/developers/google-colab-ai-coding-features/)).\n",
        "* Added the Kernel Selector in the Notebook Settings ([tweet](https://twitter.com/GoogleColab/status/1671265645756039168)).\n",
        "* Fixed double space trimming issue in markdown [#3766](https://github.com/googlecolab/colabtools/issues/3766).\n",
        "* Fixed run button indicator not always centered [#3609](https://github.com/googlecolab/colabtools/issues/3609).\n",
        "* Fixed inconsistencies for automatic indentation on multi-line [#3697](https://github.com/googlecolab/colabtools/issues/3697)\n",
        "* Upgraded Python from 3.10.11 to 3.10.12\n",
        "* Python package updates:\n",
        "  * duckdb 0.7.1 -> 0.8.1\n",
        "  * earthengine-api 0.1.350 -> 0.1.357\n",
        "  * flax 0.6.9 -> 0.6.11\n",
        "  * google-cloud-bigquery 3.9.0 -> 3.10.0\n",
        "  * google-cloud-bigquery-storage 2.19.1 -> 2.20.0\n",
        "  * grpcio 1.54.0 -> 1.56.0\n",
        "  * holidays 0.25 -> 0.27.1\n",
        "  * nbformat 5.8.0 -> 5.9.0\n",
        "  * prophet 1.1.3 -> 1.1.4\n",
        "  * pydata-google-auth 1.7.0 -> 1.8.0\n",
        "  * spacy 3.5.2 -> 3.5.3\n",
        "  * tensorboard 2.12.2 -> 2.12.3\n",
        "  * xgboost 1.7.5 -> 1.7.6\n",
        "* Python package inclusions:\n",
        "  * gcsfs 2023.6.0\n",
        "  * geopandas 0.13.2\n",
        "  * google-cloud-bigquery-connection 1.12.0\n",
        "  * google-cloud-functions 1.13.0  \n",
        "  * grpc-google-iam-v1 0.12.6\n",
        "  * multidict 6.0.4\n",
        "  * tensorboard-data-server 0.7.1"
      ]
    },
    {
      "cell_type": "markdown",
      "metadata": {
        "id": "g89VzO6MBtPt"
      },
      "source": [
        "## 2023/06/02\n",
        "\n",
        "* Released the new site [colab.google](https://colab.google).\n",
        "* Published Colab's Docker runtime image to us-docker.pkg.dev/colab-images/public/runtime ([tweet](https://twitter.com/GoogleColab/status/1663594080436375558), [instructions](https://research.google.com/colaboratory/local-runtimes.html)).\n",
        "* Launched support for Google children accounts ([tweet](https://twitter.com/GoogleColab/status/1661811016664231937)).\n",
        "* Launched DagsHub integration ([tweet](https://twitter.com/TheRealDagsHub/status/1658098271850749956), [post](https://dagshub.com/blog/google-colab-integration/)).\n",
        "* Upgraded to Monaco Editor Version 0.37.1.\n",
        "* Fixed various Vim keybinding bugs.\n",
        "* Fixed issue where the N and P letters sometimes couldn't be typed ([#3664](https://github.com/googlecolab/colabtools/issues/3664)).\n",
        "* Fixed rendering support for compositional inputs ([#3660](https://github.com/googlecolab/colabtools/issues/3660), [#3679](https://github.com/googlecolab/colabtools/issues/3660)).\n",
        "* Fixed lag in notebooks with lots of cells ([#3676](https://github.com/googlecolab/colabtools/issues/3676)).\n",
        "* Improved support for R by adding a Runtime type notebook setting (Edit -> Notebook settings).\n",
        "* Improved documentation for connecting to a local runtime (Connect -> Connect to a local runtime).\n",
        "* Python package updates:\n",
        "  * holidays 0.23 -> 0.25\n",
        "  * jax 0.4.8 -> 0.4.10\n",
        "  * jaxlib 0.4.8 -> 0.4.10\n",
        "  * pip 23.0.1 -> 23.1.2\n",
        "  * tensorflow-probability 0.19.0 -> 0.20.1\n",
        "  * torch 2.0.0 -> 2.0.1\n",
        "  * torchaudio 2.0.1 -> 2.0.2\n",
        "  * torchdata 0.6.0 -> 0.6.1\n",
        "  * torchtext 0.15.1 -> 0.15.2\n",
        "  * torchvision 0.15.1 -> 0.15.2\n",
        "  * tornado 6.2 -> 6.3.1"
      ]
    },
    {
      "cell_type": "markdown",
      "metadata": {
        "id": "lMM_RgGAmksZ"
      },
      "source": [
        "## 2023/05/05\n",
        "\n",
        "* Released GPU type selection for paid users, allowing them to choose a preferred NVidia GPU\n",
        "* Upgraded R from 4.2.3 to 4.3.0\n",
        "* Upgraded Python from 3.9.16 to 3.10.11\n",
        "* Python package updates:\n",
        "  * attrs 22.2.0 -> attrs 23.1.0\n",
        "  * earthengine-api 0.1.349 -> earthengine-api 0.1.350\n",
        "  * flax 0.6.8 -> 0.6.9\n",
        "  * grpcio 1.53.0 -> 1.54.0\n",
        "  * nbclient 0.7.3 -> 0.7.4\n",
        "  * tensorflow-datasets 4.8.3 -> 4.9.2\n",
        "  * termcolor 2.2.0 -> 2.3.0\n",
        "  * zict 2.2.0 -> 3.0.0"
      ]
    },
    {
      "cell_type": "markdown",
      "metadata": {
        "id": "jpIGoFvfw2Ls"
      },
      "source": [
        "## 2023/04/14\n",
        "\n",
        "* Python package updates:\n",
        "  * google-api-python-client 2.70.0 -> 2.84.0\n",
        "  * google-auth-oauthlib 0.4.6 -> 1.0.0\n",
        "  * google-cloud-bigquery 3.4.2 -> 3.9.0\n",
        "  * google-cloud-datastore 2.11.1 -> 2.15.1\n",
        "  * google-cloud-firestore 2.7.3 -> 2.11.0\n",
        "  * google-cloud-language 2.6.1 -> 2.9.1\n",
        "  * google-cloud-storage 2.7.0 -> 2.8.0\n",
        "  * google-cloud-translate 3.8.4 -> 3.11.1\n",
        "  * networkx 3.0 -> 3.1\n",
        "  * notebook 6.3.0 -> 6.4.8\n",
        "  * jax 0.4.7 -> 0.4.8\n",
        "  * pandas 1.4.4 -> 1.5.3\n",
        "  * spacy 3.5.1 -> 3.5.2\n",
        "  * SQLAlchemy 1.4.47 -> 2.0.9\n",
        "  * xgboost 1.7.4 -> 1.7.5"
      ]
    },
    {
      "cell_type": "markdown",
      "metadata": {
        "id": "wJLyPhu-XXov"
      },
      "source": [
        "## 2023/3/31\n",
        "\n",
        "* Improve bash ! syntax highlighting ([GitHub issue](https://github.com/googlecolab/colabtools/issues/3507))\n",
        "* Fix bug where VIM keybindings weren't working in the file editor\n",
        "* Upgraded R from 4.2.2 to 4.2.3\n",
        "* Python package updates:\n",
        "  * arviz 0.12.1 --> 0.15.1\n",
        "  * astropy 4.3.1 --> 5.2.2\n",
        "  * dopamine-rl 1.0.5 --> 4.0.6\n",
        "  * gensim 3.6.0 --> 4.3.1\n",
        "  * ipykernel 5.3.4 -> 5.5.6\n",
        "  * ipython 7.9.0 -> 7.34.0\n",
        "  * jax 0.4.4 -> 0.4.7\n",
        "  * jaxlib 0.4.4 -> 0.4.7\n",
        "  * jupyter_core 5.2.0 -> 5.3.0\n",
        "  * keras 2.11.0 -> 2.12.0\n",
        "  * lightgbm 2.2.3 -> 3.3.5\n",
        "  * matplotlib 3.5.3 -> 3.7.1\n",
        "  * nltk 3.7 -> 3.8.1\n",
        "  * opencv-python 4.6.0.66 -> 4.7.0.72\n",
        "  * plotly 5.5.0 -> 5.13.1\n",
        "  * pymc 4.1.4 -> 5.1.2\n",
        "  * seaborn 0.11.2 -> 0.12.2\n",
        "  * spacy 3.4.4 -> 3.5.1\n",
        "  * sympy 1.7.1 -> 1.11.1\n",
        "  * tensorboard 2.11.2 -> 2.12.0\n",
        "  * tensorflow 2.11.0 -> 2.12.0\n",
        "  * tensorflow-estimator 2.11.0 -> 2.12.0\n",
        "  * tensorflow-hub 0.12.0 -> 0.13.0\n",
        "  * torch 1.13.1 -> 2.0.0\n",
        "  * torchaudio 0.13.1 -> 2.0.1\n",
        "  * torchtext 0.14.1 -> 0.15.1\n",
        "  * torchvision 0.14.1 -> 0.15.1\n",
        "\n"
      ]
    },
    {
      "cell_type": "markdown",
      "metadata": {
        "id": "nsyNmf0OSEPc"
      },
      "source": [
        "## 2023/3/10\n",
        "\n",
        "*   Added the [Colab editor shortcuts](https://colab.research.google.com/notebooks/editor_shortcuts.ipynb) example notebook\n",
        "*   Fixed triggering of @-mention and email autocomplete for large comments ([GitHub issue](https://github.com/googlecolab/colabtools/issues/3383))\n",
        "*   Added View Resources to the Runtime menu\n",
        "*   Made file viewer images fit the view by default, resizing to original size on click\n",
        "*   When in VIM mode, enable copy as well as allowing propagation to monaco-vim to escape visual mode ([GitHub issue](https://github.com/googlecolab/colabtools/issues/3414))\n",
        "*   Upgraded CUDA 11.6.2 -> 11.8.0 and cuDNN 8.4.0.27 -> 8.7.0.84\n",
        "*   Upgraded Nvidia drivers 525.78.01 -> 530.30.02\n",
        "*   Upgraded Python 3.8.10 -> 3.9.16\n",
        "*   Python package updates:\n",
        "  * beautifulsoup4 4.6.3 -> 4.9.3\n",
        "  * bokeh 2.3.3 -> 2.4.3\n",
        "  * debugpy 1.0.0 -> 1.6.6\n",
        "  * Flask 1.1.4 -> 2.2.3\n",
        "  * jax 0.3.25 -> 0.4.4\n",
        "  * jaxlib 0.3.25 -> 0.4.4\n",
        "  * Jinja2 2.11.3 -> 3.1.2\n",
        "  * matplotlib 3.2.2 -> 3.5.3\n",
        "  * nbconvert 5.6.1 -> 6.5.4\n",
        "  * pandas 1.3.5 -> 1.4.4\n",
        "  * pandas-datareader 0.9.0 -> 0.10.0\n",
        "  * pandas-profiling 1.4.1 -> 3.2.0\n",
        "  * Pillow 7.1.2 -> 8.4.0\n",
        "  * plotnine 0.8.0 -> 0.10.1\n",
        "  * scikit-image 0.18.3 -> 0.19.3\n",
        "  * scikit-learn 1.0.2 -> 1.2.2\n",
        "  * scipy 1.7.3 -> 1.10.1\n",
        "  * setuptools 57.4.0 -> 63.4.3\n",
        "  * sklearn-pandas 1.8.0 -> 2.2.0\n",
        "  * statsmodels 0.12.2 -> 0.13.5\n",
        "  * urllib3 1.24.3 -> 1.26.14\n",
        "  * Werkzeug 1.0.1 -> 2.2.3\n",
        "  * wrapt 1.14.1 -> 1.15.0\n",
        "  * xgboost 0.90 -> 1.7.4\n",
        "  * xlrd 1.2.0 -> 2.0.1\n"
      ]
    },
    {
      "cell_type": "markdown",
      "metadata": {
        "id": "F1LsRRNSoa0-"
      },
      "source": [
        "## 2023/2/17\n",
        "\n",
        "*   Show graphs of RAM and disk usage in notebook toolbar\n",
        "*   Copy cell links directly to the clipboard instead of showing a dialog when clicking on the link icon in the cell toolbar\n",
        "*   Updated the [Colab Marketplace VM image](https://research.google.com/colaboratory/marketplace.html)\n",
        "*   Upgraded CUDA to 11.6.2 and cuDNN to 8.4.0.27\n",
        "*   Python package updates:\n",
        "  * tensorflow 2.9.2 -> 2.11.0\n",
        "  * tensorboard 2.9.1 -> 2.11.2\n",
        "  * keras 2.9.0 -> 2.11.0\n",
        "  * tensorflow-estimator 2.9.0 -> 2.11.0\n",
        "  * tensorflow-probability 0.17.0 -> 0.19.0\n",
        "  * tensorflow-gcs-config 2.9.0 -> 2.11.0\n",
        "  * earthengine-api 0.1.339 -> 0.1.341\n",
        "  * flatbuffers 1.12 -> 23.1.21\n",
        "  * platformdirs 2.6.2 -> 3.0.0\n",
        "  * pydata-google-auth 1.6.0 -> 1.7.0\n",
        "  * python-utils 3.4.5 -> 3.5.2\n",
        "  * tenacity 8.1.0 -> 8.2.1\n",
        "  * tifffile 2023.1.23.1 -> 2023.2.3\n",
        "  * notebook 5.7.16 -> 6.3.0\n",
        "  * tornado 6.0.4 -> 6.2\n",
        "  * aiohttp 3.8.3 -> 3.8.4\n",
        "  * charset-normalizer 2.1.1 -> 3.0.1\n",
        "  * fastai 2.7.0 -> 2.7.1\n",
        "  * soundfile 0.11.0 -> 0.12.1\n",
        "  * typing-extensions 4.4.0 -> 4.5.0\n",
        "  * widgetsnbextension 3.6.1 -> 3.6.2\n",
        "  * pydantic 1.10.4 -> 1.10.5\n",
        "  * zipp 3.12.0 -> 3.13.0\n",
        "  * numpy 1.21.6 -> 1.22.4\n",
        "  * drivefs 66.0 -> 69.0\n",
        "  * gdal 3.0.4 -> 3.3.2 [GitHub issue](https://github.com/googlecolab/colabtools/issues/3375)\n",
        "* Added libudunits2-dev for smoother R package installs [GitHub issue](https://github.com/googlecolab/colabtools/issues/2831)\n"
      ]
    },
    {
      "cell_type": "markdown",
      "metadata": {
        "id": "BuV3igVbf8-a"
      },
      "source": [
        "## 2023/2/3\n",
        "\n",
        "*   Improved tooltips for pandas series to show common statistics about the series object\n",
        "*   Made the forms dropdown behave like an autocomplete box when it allows input\n",
        "*   Updated the nvidia driver from 460.32.03 to 510.47.03\n",
        "*   Python package updates:\n",
        "    *   absl-py 1.3.0 -> 1.4.0\n",
        "    *   bleach 5.0.1 -> 6.0.0\n",
        "    *   cachetools 5.2.1 -> 5.3.0\n",
        "    *   cmdstanpy 1.0.8 -> 1.1.0\n",
        "    *   dnspython 2.2.1 -> 2.3.0\n",
        "    *   fsspec 2022.11.0 -> 2023.1.0\n",
        "    *   google-cloud-bigquery-storage 2.17.0 -> 2.18.1\n",
        "    *   holidays 0.18 -> 0.19\n",
        "    *   jupyter-core 5.1.3 -> 5.2.0\n",
        "    *   packaging 21.3 -> 23.0\n",
        "    *   prometheus-client 0.15.0 -> 0.16.0\n",
        "    *   pyct 0.4.8 -> 0.5.0\n",
        "    *   pydata-google-auth 1.5.0 -> 1.6.0\n",
        "    *   python-slugify 7.0.0 -> 8.0.0\n",
        "    *   sqlalchemy 1.4.46 -> 2.0.0\n",
        "    *   tensorflow-io-gcs-filesystem 0.29.0 -> 0.30.0\n",
        "    *   tifffile 2022.10.10 -> 2023.1.23.1\n",
        "    *   zipp 3.11.0 -> 3.12.0\n",
        "    *   Pinned sqlalchemy to version 1.4.46\n",
        "\n"
      ]
    },
    {
      "cell_type": "markdown",
      "metadata": {
        "id": "D5Ge8nDOVffa"
      },
      "source": [
        "## 2023/1/12\n",
        "\n",
        "*   Added support for @-mention and email autocomplete in comments\n",
        "*   Improved errors when GitHub notebooks can't be loaded\n",
        "*   Increased color contrast for colors used for syntax highlighting in the code editor\n",
        "*   Added terminal access for custom GCE VM runtimes\n",
        "*   Upgraded Ubuntu from 18.04 LTS to 20.04 LTS ([GitHub issue]((https://github.com/googlecolab/colabtools/issues/3327)))\n",
        "*   Python package updates:\n",
        "  *   GDAL 2.2.2 -> 2.2.3.\n",
        "  *   NumPy from 1.21.5 to 1.21.6.\n",
        "  *   attrs 22.1.0 -> 22.2.0\n",
        "  *   chardet 3.0.4 -> 4.0.0\n",
        "  *   cloudpickle 1.6.0 -> 2.2.0\n",
        "  *   filelock 3.8.2 -> 3.9.0\n",
        "  *   google-api-core 2.8.2 -> 2.11.0\n",
        "  *   google-api-python-client 1.12.11 -> 2.70.0\n",
        "  *   google-auth-httplib2 0.0.3 -> 0.1.0\n",
        "  *   google-cloud-bigquery 3.3.5 -> 3.4.1\n",
        "  *   google-cloud-datastore 2.9.0 -> 2.11.0\n",
        "  *   google-cloud-firestore 2.7.2 -> 2.7.3\n",
        "  *   google-cloud-storage 2.5.0 -> 2.7.0\n",
        "  *   holidays 0.17.2 -> holidays 0.18\n",
        "  *   importlib-metadata 5.2.0 -> 6.0.0\n",
        "  *   networkx 2.8.8 -> 3.0\n",
        "  *   opencv-python-headless 4.6.0.66 -> 4.7.0.68\n",
        "  *   pip 21.1.3 -> 22.04\n",
        "  *   pip-tools 6.2.0 -> 6.6.2\n",
        "  *   prettytable 3.5.0 -> 3.6.0\n",
        "  *   requests 2.23.0 -> 2.25.1\n",
        "  *   termcolor 2.1.1 -> 2.2.0\n",
        "  *   torch 1.13.0 -> 1.13.1\n",
        "  *   torchaudio 0.13.0 -> 0.13.1\n",
        "  *   torchtext 0.14.0-> 0.14.1\n",
        "  *   torchvision 0.14.0 -> 0.14.1"
      ]
    },
    {
      "cell_type": "markdown",
      "metadata": {
        "id": "wAN8otMuxpw3"
      },
      "source": [
        "## 2022/12/6\n",
        "\n",
        "\n",
        "*   Made fallback runtime version available until mid-December ([GitHub issue](https://github.com/googlecolab/colabtools/issues/3246))\n",
        "*   Upgraded to Python 3.8 ([GitHub issue](https://github.com/googlecolab/colabtools/issues/3246))\n",
        "*   Python package updates:\n",
        "  *   jax from 0.3.23 to 0.3.25, jaxlib from 0.3.22 to 0.3.25\n",
        "  *   pyarrow from 6.0.1 to 9.0.0\n",
        "  *   torch from 1.12.1 to 1.13.0\n",
        "  *   torchaudio from 0.12.1 to 0.13.0\n",
        "  *   torchvision from 0.13.1 to 0.14.0\n",
        "  *   torchtext from 0.13.1 to 0.14.0\n",
        "  *   xlrd from 1.1.0 to 1.2.0\n",
        "  *   DriveFS from 62.0.1 to 66.0.3\n",
        "*   Made styling of markdown tables in outputs match markdown tables in text cells\n",
        "*   Improved formatting for empty interactive table rows\n",
        "*   Fixed syntax highlighting for variables with names that contain Python keywords ([GitHub issue](https://github.com/googlecolab/colabtools/issues/3210))\n"
      ]
    },
    {
      "cell_type": "markdown",
      "metadata": {
        "id": "cJxFZHsR7HAZ"
      },
      "source": [
        "## 2022/11/11\n",
        "\n",
        "*   Added more dark editor themes for Monaco (when in dark mode, \"Editor colorization\" appears as an option in the Editor tab of the Tools → Settings dialog)\n",
        "*   Fixed bug where collapsed forms were deleted on mobile\n",
        "[GitHub issue](https://github.com/googlecolab/colabtools/issues/3153)\n",
        "*   Python package updates:\n",
        "  *   rpy2 from 3.4.0 to 3.5.5 ([GitHub issue](https://github.com/googlecolab/colabtools/issues/3180))\n",
        "  *   notebook from 5.5.0 to 5.7.16\n",
        "  *   tornado from 5.1.1 to 6.0.4\n",
        "  *   tensorflow_probability from 0.16.0 to 0.17.0\n",
        "  *   pandas-gbq from 0.13.3 to 0.17.9\n",
        "  *   protobuf from 3.17.3 to 3.19.6\n",
        "  *   google-api-core[grpc] from 1.31.5 to 2.8.2\n",
        "  *   google-cloud-bigquery from 1.21.0 to 3.3.5\n",
        "  *   google-cloud-core from 1.0.1 to 2.3.2\n",
        "  *   google-cloud-datastore from 1.8.0 to 2.9.0\n",
        "  *   google-cloud-firestore from 1.7.0 to 2.7.2\n",
        "  *   google-cloud-language from 1.2.0 to 2.6.1\n",
        "  *   google-cloud-storage from 1.18.0 to 2.5.0\n",
        "  *   google-cloud-translate from 1.5.0 to 3.8.4"
      ]
    },
    {
      "cell_type": "markdown",
      "metadata": {
        "id": "mNnf5izyVyF0"
      },
      "source": [
        "## 2022/10/21\n",
        "\n",
        "*   Launched a single-click way to get from BigQuery to Colab to further explore query results ([announcement](https://cloud.google.com/bigquery/docs/explore-data-colab))\n",
        "*   Launched [Pro, Pro+, and Pay As You Go](https://colab.research.google.com/signup) to 19 additional countries: Austria, Belgium, Bulgaria, Croatia, Cyprus, Czechia, Denmark, Estonia, Finland, Greece, Hungary, Latvia, Lithuania, Norway, Portugal, Romania, Slovakia, Slovenia, and Sweden ([tweet](https://twitter.com/GoogleColab/status/1579956393834344449))\n",
        "*   Updated jax from 0.3.17 to 0.3.23, jaxlib from 0.3.15 to 0.3.22, TensorFlow from 2.8.2 to 2.9.2, CUDA from 11.1 to 11.2, and cuDNN from 8.0 to 8.1 ([backend-info](https://github.com/googlecolab/backend-info))\n",
        "*   Added a `readonly` option to [`drive.mount`](https://github.com/googlecolab/colabtools/blob/main/google/colab/drive.py#L99)\n",
        "*   Fixed bug where Xarray was not working ([GitHub issue](https://github.com/googlecolab/colabtools/issues/3134))\n",
        "*   Modified Markdown parsing to ignore block quote symbol within MathJax ([GitHub issue](https://github.com/googlecolab/colabtools/issues/3118))\n"
      ]
    },
    {
      "cell_type": "markdown",
      "metadata": {
        "id": "Nf4LWuR__yxA"
      },
      "source": [
        "## 2022/9/30\n",
        "\n",
        "*   Launched [Pay As You Go](https://colab.research.google.com/signup), allowing premium GPU access without requiring a subscription\n",
        "*   Added vim and tcllib to our runtime image\n",
        "*   Fixed bug where open files were closed on kernel disconnect ([GitHub issue](https://github.com/googlecolab/colabtools/issues/1716))\n",
        "*   Fixed bug where the play button/execution indicator was not clickable when scrolled into the cell output ([GitHub issue](https://github.com/googlecolab/colabtools/issues/3068))\n",
        "*   Updated the styling for form titles so that they avoid obscuring the code editor\n",
        "*   Created a GitHub repo, [backend-info](https://github.com/googlecolab/backend-info), with the latest apt-list.txt and pip-freeze.txt files for the Colab runtime ([GitHub issue](https://github.com/googlecolab/colabtools/issues/1445))\n",
        "*   Added [`files.upload_file(filename)`](https://github.com/googlecolab/colabtools/blob/main/google/colab/files.py#L33) to upload a file from the browser to the runtime with a specified filename\n"
      ]
    },
    {
      "cell_type": "markdown",
      "metadata": {
        "id": "tIOYL5w7ONNT"
      },
      "source": [
        "## 2022/9/16\n",
        "\n",
        "*   Upgraded pymc from 3.11.0 to 4.1.4, jax from 0.3.14 to 0.3.17, jaxlib from 0.3.14 to 0.3.15, fsspec from 2022.8.1 to 2022.8.2\n",
        "*   Modified our save flow to avoid persisting Drive filenames as titles in notebook JSON\n",
        "*   Updated our [Terms of Service](https://colab.research.google.com/pro/terms)\n",
        "*   Modified the `Jump to Cell` command to locate the cursor at the end of the command palette input (`Jump to cell` in Tools → Command palette in a notebook with section headings)\n",
        "*   Updated the styling of the Drive notebook comment UI\n",
        "*   Added support for terminating your runtime from code:\n",
        "  ```python\n",
        "  from google.colab import runtime\n",
        "  runtime.unassign()\n",
        "  ```\n",
        "*    Added regex filter support to the Recent notebooks dialog\n",
        "*    Inline google.colab.files.upload JS to fix `files.upload()` not working ([GitHub issue](https://github.com/googlecolab/colabtools/issues/51))\n"
      ]
    },
    {
      "cell_type": "markdown",
      "metadata": {
        "id": "UroL8Rmb38bd"
      },
      "source": [
        "## 2022/8/26\n",
        "\n",
        "*   Upgraded PyYAML from 3.13 to 6.0 ([GitHub issue](https://github.com/googlecolab/colabtools/issues/2942)), drivefs from 61.0.3 to 62.0.1\n",
        "*   Upgraded TensorFlow from 2.8.2 to 2.9.1 and ipywidgets from 7.7.1 to 8.0.1 but rolled both back due to a number of user reports ([GitHub issue](https://github.com/googlecolab/colabtools/issues/3008), [GitHub issue](https://github.com/googlecolab/colabtools/issues/3020#issuecomment-1223330253))\n",
        "*   Stop persisting inferred titles in notebook JSON ([GitHub issue](https://github.com/googlecolab/colabtools/issues/764))\n",
        "*   Fix bug in background execution which affected some Pro+ users ([GitHub issue](https://github.com/googlecolab/colabtools/issues/2991))\n",
        "*   Fix bug where `Download as .py` incorrectly handled text cells ending in a double quote\n",
        "*   Fix bug for Pro and Pro+ users where we weren't honoring the preference (Tools → Settings) to use a temporary scratch notebook as the default landing page\n",
        "*   Provide undo/redo for scratch cells\n",
        "*   When writing ipynb files, serialize empty multiline strings as `[]` for better consistency with JupyterLab\n"
      ]
    },
    {
      "cell_type": "markdown",
      "metadata": {
        "id": "p8Hf89oCXY0_"
      },
      "source": [
        "## 2022/8/11\n",
        "\n",
        "*   Upgraded ipython from 5.5.0 to 7.9.0, fbprophet 0.7 to prophet 1.1, tensorflow-datasets from 4.0.1 to 4.6.0, drivefs from 60.0.2 to 61.0.3, pytorch from 1.12.0 to 1.12.1, numba from 0.51 to 0.56, and lxml from 4.2.0 to 4.9.1\n",
        "*   Loosened our `requests` version requirement ([GitHub issue](https://github.com/deepset-ai/haystack/pull/2921#issuecomment-1199714337))\n",
        "*   Removed support for TensorFlow 1\n",
        "*   Added Help → Report Drive abuse for Drive notebooks\n",
        "*   Fixed indentation for Python lines ending in `[`\n",
        "*   Modified styling of tables in Markdown to left-align them rather than centering them\n",
        "*   Fixed special character replacement when copying interactive tables as Markdown\n",
        "*   Fixed ansi 8-bit color parsing ([GitHub issue](https://github.com/googlecolab/colabtools/issues/2963))\n",
        "*  Configured logging to preempt transitive imports and other loading from implicitly configuring the root logger\n",
        "*  Modified forms to use a value of `None` instead of causing a parse error when clearing raw and numeric-typed form fields"
      ]
    },
    {
      "cell_type": "markdown",
      "metadata": {
        "id": "c3WxlZQWoRTF"
      },
      "source": [
        "## 2022/7/22\n",
        "\n",
        "*   Update scipy from 1.4.1 to 1.7.3, drivefs from 59.0.3 to 60.0.2, pytorch from 1.11 to 1.12, jax & jaxlib from 0.3.8 to 0.3.14, opencv-python from 4.1.2.30 to 4.6.0.66, spaCy from 3.3.1 to 3.4.0, and dlib from 19.18.0 to 19.24.0\n",
        "*   Fix `Open in tab` doc link which was rendering incorrectly ([GitHub issue](https://github.com/googlecolab/colabtools/issues/2690))\n",
        "*   Add a preference for the default tab orientation to the Site section of the settings menu under Tools → Settings\n",
        "*   Show a warning for `USE_AUTH_EPHEM` usage when running authenticate_user on a TPU runtime ([code](https://github.com/googlecolab/colabtools/blob/main/google/colab/auth.py#L243))"
      ]
    },
    {
      "cell_type": "markdown",
      "metadata": {
        "id": "J5BP2AumSQV-"
      },
      "source": [
        "## 2022/7/1\n",
        "\n",
        "*   Add a preference for code font to the settings menu under Tools → Settings\n",
        "*   Update drivefs from 58.0.3 to 59.0.3 and spacy from 2.2.4 to 3.3.1\n",
        "*   Allow [display_data](https://ipython.org/ipython-doc/3/notebook/nbformat.html#display-data) and [execute_result](https://ipython.org/ipython-doc/3/notebook/nbformat.html#execute-result) text outputs to wrap, matching behavior of JupyterLab (does not affect stream outputs/print statements).\n",
        "*   Improve LSP handling of some magics, esp. %%writefile ([GitHub issue](https://github.com/googlecolab/colabtools/issues/2859)).\n",
        "*   Add a [FAQ entry](https://research.google.com/colaboratory/faq.html#drive-mount-code-cell) about the mount Drive button behavior and include link buttons for each FAQ entry.\n",
        "*   Fix bug where the notebook was sometimes hidden behind other tabs on load when in single pane view.\n",
        "*   Fix issue with inconsistent scrolling when an editor is in multi-select mode.\n",
        "*   Fix bug where clicking on a link in a form would navigate away from the notebook\n",
        "*   Show a confirmation dialog before performing Replace all from the Find and replace pane."
      ]
    },
    {
      "cell_type": "markdown",
      "metadata": {
        "id": "Js3CVRzTawq0"
      },
      "source": [
        "## 2022/6/10\n",
        "\n",
        "\n",
        "*   Update drivefs from 57.0.5 to 58.0.3 and tensorflow from 2.8.0 to 2.8.2\n",
        "*   Support more than 100 repos in the GitHub repo selector shown in the open dialog and the clone to GitHub dialog\n",
        "*   Show full notebook names on hover in the open dialog\n",
        "*   Improve the color contrast for links, buttons, and the `ipywidgets.Accordion` widget in dark mode"
      ]
    },
    {
      "cell_type": "markdown",
      "metadata": {
        "id": "dIg0QWF0Ho8u"
      },
      "source": [
        "## 2022/5/20\n",
        "\n",
        "\n",
        "*   Support URL params for linking to some common pref settings: [force_theme=dark](https://colab.research.google.com/?force_theme=dark), [force_corgi_mode=1](https://colab.research.google.com/?force_corgi_mode=1), [force_font_size=14](https://colab.research.google.com/?force_font_size=14). Params forced by URL are not persisted unless saved using Tools → Settings.\n",
        "*   Add a class `markdown-google-sans` to allow <span class=\"markdown-google-sans\">Markdown to render in Google Sans</span>\n",
        "*   Update monaco-vim from 0.1.19 to 0.3.4\n",
        "*   Update drivefs from 55.0.3 to 57.0.5, jax from 0.3.4 to 0.3.8, and jaxlib from 0.3.2 to 0.3.7"
      ]
    },
    {
      "cell_type": "markdown",
      "metadata": {
        "id": "LatTBAMgJjwB"
      },
      "source": [
        "## 2022/4/29\n",
        "\n",
        "\n",
        "*   Added 🦀 mode (under Miscellaneous in Tools → Settings)\n",
        "*   Added \"Disconnect and delete runtime\" option to the menu next to the Connect button\n",
        "*   Improved rendering of filter options in an interactive table\n",
        "*   Added git-lfs to the base image\n",
        "*   Updated torch from 1.10.0 to 1.11.0, jupyter-core from 4.9.2 to 4.10.0, and cmake from 3.12.0 to 3.22.3\n",
        "*   Added more details to our [FAQ](https://research.google.com/colaboratory/faq.html) about unsupported uses (using proxies, downloading torrents, etc.)\n",
        "*   Fixed [issue](https://github.com/googlecolab/colabtools/issues/2779) with apt-get dependencies\n"
      ]
    },
    {
      "cell_type": "markdown",
      "metadata": {
        "id": "Eya7SMhoRjk1"
      },
      "source": [
        "## 2022/4/15\n",
        "\n",
        "*   Add an option in the file browser to show hidden files.\n",
        "*   Upgrade gdown from 4.2.0 to 4.4.0, google-api-core[grpc] from 1.26.0 to 1.31.5, and pytz from 2018.4 to 2022.1"
      ]
    },
    {
      "cell_type": "markdown",
      "metadata": {
        "id": "Q3vLHtJAmCJ3"
      },
      "source": [
        "## 2022/3/25\n",
        "\n",
        "\n",
        "*   Launched [Pro/Pro+](https://colab.research.google.com/signup?utm_source=relnotes&utm_medium=link&utm_campaign=additional_countries) to 12 additional countries: Australia, Bangladesh, Colombia, Hong Kong, Indonesia, Mexico, New Zealand, Pakistan, Philippines, Singapore, Taiwan, and Vietnam\n",
        "*   Added [`google.colab.auth.authenticate_service_account()`](https://github.com/googlecolab/colabtools/blob/main/google/colab/auth.py#L253) to support using [Service Account keys](https://cloud.google.com/iam/docs/creating-managing-service-account-keys#iam-service-account-keys-create-console)\n",
        "*   Update jax from 0.3.1 to 0.3.4 & jaxlib from 0.3.0 to 0.3.2\n",
        "*   Fixed an issue with Twitter previews of notebooks shared as Github Gists\n"
      ]
    },
    {
      "cell_type": "markdown",
      "metadata": {
        "id": "MU5YsVvzfsqd"
      },
      "source": [
        "## 2022/3/10\n",
        "\n",
        "\n",
        "*   Launched [Pro/Pro+](https://colab.research.google.com/signup?utm_source=relnotes&utm_medium=link&utm_campaign=additional_countries) to 10 new countries: Ireland, Israel, Italy, Morocco, the Netherlands, Poland, Spain, Switzerland, Turkey, and the United Arab Emirates\n",
        "*   Launched support for [scheduling notebooks for Pro+ users](https://github.com/googlecolab/colabtools/wiki/Scheduled-notebooks)\n",
        "*   Fixed bug in interactive datatables where filtering by number did not work\n",
        "*   Finished removing the python2 kernelspec\n",
        "\n"
      ]
    },
    {
      "cell_type": "markdown",
      "metadata": {
        "id": "Of4H5emXhAxl"
      },
      "source": [
        "## 2022/2/25\n",
        "\n",
        "*   Made various accessibility improvements to the header\n",
        "*   Fix bug with [forms run:auto](https://colab.sandbox.google.com/notebooks/forms.ipynb#scrollTo=h9aZYKhly2h_) where a form field change would trigger multiple runs\n",
        "*   Minor updates to the [bigquery example notebook](https://colab.research.google.com/notebooks/bigquery.ipynb) and snippet\n",
        "*   Include background execution setting in the sessions dialog for Pro+ users\n",
        "*   Update tensorflow-probability from 0.15 to 0.16\n",
        "*   Update jax from 0.2.25 to 0.3.1 & jaxlib from 0.1.71 to 0.3.0\n"
      ]
    },
    {
      "cell_type": "markdown",
      "metadata": {
        "id": "zAxEtWbq0pZW"
      },
      "source": [
        "## 2022/2/11\n",
        "\n",
        "*   Improve keyboard navigation for the open dialog\n",
        "*   Fix issue where nvidia-smi stopped reporting resource utilization for some users who were modifying the version of nvidia used\n",
        "*   Update tensorflow from 2.7 to 2.8, keras from 2.7 to 2.8, numpy from 1.19.5 to 1.21.5, tables from 3.4.4 to 3.7.0\n"
      ]
    },
    {
      "cell_type": "markdown",
      "metadata": {
        "id": "8wuBaBN7i8z8"
      },
      "source": [
        "## 2022/2/4\n",
        "\n",
        "*   Improve UX for opening content alongside your notebook, such as files opened from the file browser. This includes a multi-pane view and drag-drop support\n",
        "*   Better Twitter previews when sharing example Colab notebooks and notebooks opened from GitHub Gists\n",
        "*   Update pandas from 1.1.5 to 1.3.5\n",
        "*   Update openpyxl from 2.5.9 to 3.0.0 and pyarrow from 3.0.0 to 6.0.0\n",
        "*   Link to the release notes from the Help menu\n",
        "\n"
      ]
    },
    {
      "cell_type": "markdown",
      "metadata": {
        "id": "xJyF5c1-jjZh"
      },
      "source": [
        "## 2022/1/28\n",
        "\n",
        "*   Add a copy button to [data tables](https://colab.research.google.com/notebooks/data_table.ipynb)\n",
        "*   Python LSP support for better completions and code diagnostics. This can be configured in the Editor Settings (Tools → Settings)\n",
        "*   Update [gspread examples](https://colab.research.google.com/notebooks/io.ipynb#scrollTo=sOm9PFrT8mGG) in our documentation\n",
        "*   Update gdown from 3.6 to 4.2\n"
      ]
    },
    {
      "cell_type": "markdown",
      "metadata": {
        "id": "Ev3L2QDMim6c"
      },
      "source": [
        "## 2022/1/21\n",
        "\n",
        "*   New documentation for the [`google.colab` package](https://colab.research.google.com/notebooks/google.colab.ipynb)\n",
        "*   Show GPU RAM in the resource usage tab\n",
        "*   Improved security for mounting Google Drive which disallows mounting Drive from accounts other than the one currently executing the notebook"
      ]
    },
    {
      "cell_type": "markdown",
      "metadata": {
        "id": "k1Mz0AckrHX6"
      },
      "source": [
        "## 2022/1/14\n",
        "\n",
        "*   Add a preference (Tools → Settings) to use a temporary scratch notebook as the default landing page\n",
        "*   Fix bug where `/` and `:` weren't working in VIM mode\n",
        "*   Update gspread from 3.0 to 3.4\n",
        "*   Update the [Colab Marketplace VM image](https://research.google.com/colaboratory/marketplace.html)\n",
        "\n"
      ]
    }
  ],
  "metadata": {
    "colab": {
      "provenance": [],
      "include_colab_link": true
    },
    "kernelspec": {
      "display_name": "Python 3",
      "name": "python3"
    }
  },
  "nbformat": 4,
  "nbformat_minor": 0
}